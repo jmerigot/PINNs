{
 "cells": [
  {
   "cell_type": "code",
   "execution_count": 1,
   "metadata": {},
   "outputs": [],
   "source": [
    "from typing import List, Tuple\n",
    "import torch\n",
    "from torch import nn, autograd, Tensor\n",
    "from torch.nn import functional as F\n",
    "\n",
    "import json\n",
    "from pathlib import Path\n",
    "import random\n",
    "from time import time\n",
    "import scipy\n",
    "import matplotlib.pyplot as plt\n",
    "\n",
    "import numpy as np\n",
    "import torch\n",
    "from torch.utils.data import Dataset, DataLoader, RandomSampler\n",
    "from tqdm import tqdm"
   ]
  },
  {
   "cell_type": "code",
   "execution_count": 2,
   "metadata": {},
   "outputs": [],
   "source": [
    "def calc_grad(y, x) -> Tensor:\n",
    "    grad = autograd.grad(\n",
    "        outputs=y,\n",
    "        inputs=x,\n",
    "        grad_outputs=torch.ones_like(y),\n",
    "        create_graph=True,\n",
    "        retain_graph=True,\n",
    "    )[0]\n",
    "    return grad\n",
    "\n",
    "class BurgersPiNN(nn.Module):\n",
    "    \"\"\"\n",
    "    Burger's is in 1D, inputs are x, t.\n",
    "    As opposed to 3D Navier-Stokes which has inputs x, y, t\n",
    "    \"\"\"\n",
    "    def __init__(self, hidden_dims: List[int], nu: float):\n",
    "        super(BurgersPiNN, self).__init__()\n",
    "        self.hidden_dims = hidden_dims\n",
    "        self.nu = nu # diffusion term\n",
    "        self.ffn_layers = []\n",
    "        input_dim = 2 # inputs are x, t\n",
    "        for hidden_dim in hidden_dims:\n",
    "            self.ffn_layers.append(nn.Linear(input_dim, hidden_dim))\n",
    "            self.ffn_layers.append(nn.Tanh())\n",
    "            self.ffn_layers.append(nn.BatchNorm1d(hidden_dim))\n",
    "            input_dim = hidden_dim\n",
    "        self.ffn_layers.append(nn.Linear(input_dim, 1)) # output is u\n",
    "        self.ffn = nn.Sequential(*self.ffn_layers)\n",
    "        \n",
    "        self.init_weights()\n",
    "    \n",
    "    def init_weights(self):\n",
    "        for m in self.modules():\n",
    "            if isinstance(m, nn.Linear):\n",
    "                nn.init.xavier_uniform_(m.weight)\n",
    "                nn.init.constant_(m.bias, 0.0)\n",
    "    \n",
    "    def forward(self, x: Tensor, t: Tensor, u: Tensor = None):\n",
    "        inputs = torch.stack([x, t], dim=1)\n",
    "        u_pred = self.ffn(inputs).squeeze(1)\n",
    "        \n",
    "        # compute gradients\n",
    "        u_t = calc_grad(u_pred, t)\n",
    "        u_x = calc_grad(u_pred, x)\n",
    "        u_xx = calc_grad(u_x, x)\n",
    "        \n",
    "        # Burger's PDE\n",
    "        f_u = u_t + u_pred * u_x - self.nu * u_xx\n",
    "        \n",
    "        loss = None\n",
    "        if u is not None:\n",
    "            loss = self.loss_fn(u, u_pred, f_u)\n",
    "        \n",
    "        return {\n",
    "            \"u_pred\": u_pred,\n",
    "            \"f_u\": f_u,\n",
    "            \"loss\": loss\n",
    "        }\n",
    "    \n",
    "    def loss_fn(self, u, u_pred, f_u_pred):\n",
    "        loss = (\n",
    "            F.mse_loss(u, u_pred, reduction=\"sum\")\n",
    "            + F.mse_loss(f_u_pred, torch.zeros_like(f_u_pred), reduction=\"sum\")\n",
    "        )\n",
    "        return loss"
   ]
  },
  {
   "cell_type": "code",
   "execution_count": 3,
   "metadata": {},
   "outputs": [],
   "source": [
    "class BurgersPiNNDataset(Dataset):\n",
    "    def __init__(self, data: np.ndarray):\n",
    "        self.data = data\n",
    "        self.examples = torch.tensor(\n",
    "            data, dtype=torch.float32, requires_grad=True\n",
    "        )\n",
    "        \n",
    "    def __len__(self):\n",
    "        return len(self.data)\n",
    "\n",
    "    def __getitem__(self, idx):\n",
    "        headers = [\"t\", \"x\", \"u\"]\n",
    "        return {key: self.examples[idx, i] for i, key in enumerate(headers)}\n",
    "\n",
    "def load_jsonl(path, skip_first_lines: int = 0):\n",
    "    with open(path, \"r\") as f:\n",
    "        for _ in range(skip_first_lines):\n",
    "            next(f)\n",
    "        return [json.loads(line) for line in f]\n",
    "\n",
    "\n",
    "def dump_json(path, data):\n",
    "    with open(path, \"w\") as f:\n",
    "        json.dump(data, f, indent=4)\n",
    "\n",
    "\n",
    "def get_dataset(data_path: Path) -> Tuple[BurgersPiNNDataset, BurgersPiNNDataset]:\n",
    "    data = load_jsonl(data_path, skip_first_lines=1)\n",
    "    random.shuffle(data)\n",
    "\n",
    "    split_idx = int(len(data) * 0.9)\n",
    "    train_data = data[:split_idx]\n",
    "    test_data = data[split_idx:]\n",
    "\n",
    "    train_data = BurgersPiNNDataset(np.array(train_data))\n",
    "    test_data = BurgersPiNNDataset(np.array(test_data))\n",
    "    return train_data, test_data\n",
    "\n",
    "def analytical_solution(x, t, U=1.0, alpha=0.01, k=np.pi):\n",
    "    return U * np.exp(-alpha * k**2 * t) * np.sin(k * x)\n",
    "\n",
    "def generate_burgers_data(num_points: int, nu: float=0.01, U=1.0, alpha=0.01, k=np.pi):\n",
    "    x = np.linspace(-1, 1, num_points)\n",
    "    t = np.linspace(0, 1, num_points)\n",
    "    X, T = np.meshgrid(x, t)\n",
    "    X_flat = X.flatten()\n",
    "    T_flat = T.flatten()\n",
    "    \n",
    "    # compute solution using the analytical function\n",
    "    U_flat = analytical_solution(X_flat, T_flat, U=U, alpha=alpha, k=k)\n",
    "\n",
    "    # add noise\n",
    "    #U_flat += 0.01 * np.random.randn(*U_flat.shape)\n",
    "\n",
    "    data = np.vstack((T_flat, X_flat, U_flat)).T\n",
    "    return data\n",
    "\n",
    "def get_burgers_dataset(num_points: int = 10000) -> Tuple[BurgersPiNNDataset, BurgersPiNNDataset]:\n",
    "    data  = generate_burgers_data(num_points)\n",
    "    np.random.shuffle(data)\n",
    "    \n",
    "    split_idx = int(len(data) * 0.85)\n",
    "    train_data = data[:split_idx]\n",
    "    test_data = data[split_idx:]\n",
    "\n",
    "    train_data = BurgersPiNNDataset(train_data)\n",
    "    test_data = BurgersPiNNDataset(test_data)\n",
    "    return train_data, test_data"
   ]
  },
  {
   "cell_type": "code",
   "execution_count": 4,
   "metadata": {},
   "outputs": [],
   "source": [
    "class Trainer:\n",
    "    def __init__(self, model: BurgersPiNN):\n",
    "        self.model = model\n",
    "        \n",
    "        # hyperparameters\n",
    "        self.lr = 0.001\n",
    "        self.lr_step = 1\n",
    "        self.lr_gamma = 0.5\n",
    "        self.num_epochs = 5\n",
    "        self.batch_size = 256\n",
    "        self.log_interval = 5\n",
    "        self.samples_per_epoch = 10000\n",
    "        \n",
    "        # for checkpointing\n",
    "        self.output_dir = Path(\n",
    "            \"result_Burgers\",\n",
    "            f\"pinn-bs{self.batch_size}-lr{self.lr}-lrstep{self.lr_step}\"\n",
    "            f\"-lrgamma{self.lr_gamma}-epoch{self.num_epochs}\",\n",
    "        )\n",
    "\n",
    "        print(f\"Output dir: {self.output_dir}\")\n",
    "        self.output_dir.mkdir(parents=True, exist_ok=True)\n",
    "        args = {}\n",
    "        for attr in [\"lr\", \"lr_step\", \"lr_gamma\", \"num_epochs\", \"batch_size\"]:\n",
    "            args[attr] = getattr(self, attr)\n",
    "        dump_json(self.output_dir / \"args.json\", args)\n",
    "\n",
    "        # device, optimizer, learning rate, scheduler\n",
    "        self.device = \"cuda\" if torch.cuda.is_available() else \"cpu\"\n",
    "        self.optimizer = torch.optim.Adam(self.model.parameters(), lr=1e-3)\n",
    "        self.lr_scheduler = torch.optim.lr_scheduler.StepLR(\n",
    "            self.optimizer, step_size=100, gamma=0.5\n",
    "        )\n",
    "        \n",
    "        self.loss_history = []\n",
    "        \n",
    "    def get_last_ckpt_dir(self) -> Path:\n",
    "        ckpts = list(self.output_dir.glob(\"ckpt-*\"))\n",
    "        if len(ckpts) == 0:\n",
    "            return None\n",
    "        return sorted(ckpts)[-1]\n",
    "\n",
    "    def train(self, train_data: BurgersPiNNDataset):\n",
    "        model = self.model\n",
    "        device = self.device\n",
    "        \n",
    "        sampler = RandomSampler(\n",
    "            train_data, replacement=True, num_samples=self.samples_per_epoch\n",
    "        )\n",
    "        train_loader = DataLoader(\n",
    "            train_data, batch_size=self.batch_size, sampler=sampler\n",
    "        )\n",
    "        \n",
    "        print(\"====== Training ======\")\n",
    "        print(f\"# epochs: {self.num_epochs}\")\n",
    "        print(f\"# examples: {len(train_data)}\")\n",
    "        print(f\"# samples used per epoch: {self.samples_per_epoch}\")\n",
    "        print(f\"batch size: {self.batch_size}\")\n",
    "        print(f\"# steps: {len(train_loader)}\")\n",
    "        loss_history = []\n",
    "        \n",
    "        model.train()\n",
    "        model.to(device)\n",
    "        \n",
    "        # resume training from a checkpoint\n",
    "        last_ckpt_dir = self.get_last_ckpt_dir()\n",
    "        if last_ckpt_dir is not None:\n",
    "            print(f\"Resuming from {last_ckpt_dir}\")\n",
    "            model.load_state_dict(torch.load(last_ckpt_dir / \"ckpt.pt\"))\n",
    "            self.optimizer.load_state_dict(\n",
    "                torch.load(last_ckpt_dir / \"optimizer.pt\")\n",
    "            )\n",
    "            self.lr_scheduler.load_state_dict(\n",
    "                torch.load(last_ckpt_dir / \"lr_scheduler.pt\")\n",
    "            )\n",
    "            ep = int(last_ckpt_dir.name.split(\"-\")[-1]) + 1\n",
    "        else:\n",
    "            ep = 0\n",
    "        \n",
    "        train_start_time = time()\n",
    "        losses_x_neg = []\n",
    "        losses_x_pos = []\n",
    "        \n",
    "        while ep < self.num_epochs:\n",
    "            print(f\"====== Epoch {ep} ======\")\n",
    "            for step, batch in tqdm(enumerate(train_loader)):\n",
    "                x_batch, t_batch, u_batch = batch[\"x\"].to(device), batch[\"t\"].to(device), batch[\"u\"].to(device)\n",
    "                \n",
    "                x_values = x_batch.cpu().detach().numpy()\n",
    "                neg_count = (x_values < 0).sum()\n",
    "                pos_count = (x_values >= 0).sum()\n",
    "                #print(f\"Epoch {ep}, Batch x values: {x_values}, Neg count: {neg_count}, Pos count: {pos_count}\")\n",
    "                \n",
    "                self.optimizer.zero_grad()\n",
    "                \n",
    "                # forward\n",
    "                outputs = model(x_batch, t_batch, u_batch)\n",
    "                loss = outputs[\"loss\"]\n",
    "                loss_history.append(loss.item())\n",
    "                \n",
    "                # backward\n",
    "                loss.backward()\n",
    "                self.optimizer.step()\n",
    "                \n",
    "                # Log separate losses for visualization\n",
    "                if neg_count > 0:\n",
    "                    losses_x_neg.append(loss.item())\n",
    "                if pos_count > 0:\n",
    "                    losses_x_pos.append(loss.item())\n",
    "                \n",
    "                if step % self.log_interval == 0:\n",
    "                    print(\n",
    "                        {\n",
    "                            \"step\": step,\n",
    "                            \"loss\": round(loss.item(), 6),\n",
    "                            \"loss_x_neg\": losses_x_neg[-1],\n",
    "                            \"loss_y_pos\": losses_x_pos[-1],\n",
    "                            \"lr\": round(self.optimizer.param_groups[0][\"lr\"], 4),\n",
    "                            \"time\": round(time() - train_start_time, 1),\n",
    "                        }\n",
    "                    )\n",
    "            self.lr_scheduler.step()\n",
    "            self.checkpoint(ep)\n",
    "            print(f\"====== Epoch {ep} done ======\")\n",
    "            ep += 1\n",
    "        print(\"====== Training done ======\")\n",
    "        \n",
    "        # Plotting the losses\n",
    "        plt.plot(losses_x_neg, label='Loss for x < 0')\n",
    "        plt.plot(losses_x_pos, label='Loss for x >= 0')\n",
    "        plt.xlabel('Epoch')\n",
    "        plt.ylabel('Loss')\n",
    "        plt.title('Loss Over Epochs for Different Regions')\n",
    "        plt.legend()\n",
    "        plt.show()\n",
    "    \n",
    "    def checkpoint(self, ep: int):\n",
    "        \"\"\"\n",
    "        Dump checkpoint (model, optimizer, lr_scheduler) to \"ckpt-{ep}\" in\n",
    "        the `output_dir`,\n",
    "\n",
    "        and dump `self.loss_history` to \"loss_history.json\" in the\n",
    "        `ckpt_dir`, and clear `self.loss_history`.\n",
    "        \"\"\"\n",
    "        # Evaluate and save\n",
    "        ckpt_dir = self.output_dir / f\"ckpt-{ep}\"\n",
    "        ckpt_dir.mkdir(parents=True, exist_ok=True)\n",
    "        print(f\"Checkpointing to {ckpt_dir}\")\n",
    "        torch.save(self.model.state_dict(), ckpt_dir / \"ckpt.pt\")\n",
    "        torch.save(self.optimizer.state_dict(), ckpt_dir / \"optimizer.pt\")\n",
    "        torch.save(self.lr_scheduler.state_dict(), ckpt_dir / \"lr_scheduler.pt\")\n",
    "        dump_json(ckpt_dir / \"loss_history.json\", self.loss_history)\n",
    "        self.loss_history = []\n",
    "    \n",
    "    def predict(self, test_data: BurgersPiNNDataset) -> dict:\n",
    "        batch_size = self.batch_size\n",
    "        test_loader = DataLoader(\n",
    "            test_data, batch_size=batch_size, shuffle=False\n",
    "        )\n",
    "        \n",
    "        print(\"====== Testing ======\")\n",
    "        print(f\"# examples: {len(test_data)}\")\n",
    "        print(f\"batch size: {batch_size}\")\n",
    "        print(f\"# steps: {len(test_loader)}\")\n",
    "        \n",
    "        self.model.to(self.device)\n",
    "        self.model.eval()\n",
    "        \n",
    "        all_preds = []\n",
    "        all_losses = []\n",
    "        \n",
    "        for step, batch in tqdm(enumerate(test_loader)):\n",
    "            x_batch, t_batch = batch[\"x\"].to(self.device), batch[\"t\"].to(self.device)\n",
    "            \n",
    "            outputs = self.model(x_batch, t_batch)\n",
    "            f_u = outputs[\"f_u\"]\n",
    "            all_preds.append(outputs[\"u_pred\"])\n",
    "            \n",
    "            # compute residual-based loss\n",
    "            loss = F.mse_loss(f_u, torch.zeros_like(f_u), reduction=\"sum\")\n",
    "            all_losses.append(loss.item())\n",
    "            \n",
    "        print(\"====== Testing done ======\")\n",
    "        all_preds = torch.cat(all_preds, 0)\n",
    "        loss = sum(all_losses) / len(all_losses)\n",
    "        return {\n",
    "            \"loss\": loss,\n",
    "            \"preds\": all_preds\n",
    "        }"
   ]
  },
  {
   "cell_type": "code",
   "execution_count": 5,
   "metadata": {},
   "outputs": [
    {
     "name": "stdout",
     "output_type": "stream",
     "text": [
      "Using device: cuda\n",
      "Number of parameters: 3341\n"
     ]
    }
   ],
   "source": [
    "torch.random.manual_seed(0)\n",
    "random.seed(0)\n",
    "device = \"cuda\" if torch.cuda.is_available() else \"cpu\"\n",
    "print(f\"Using device: {device}\")\n",
    "\n",
    "# model\n",
    "hidden_dims = [20] * 8\n",
    "model = BurgersPiNN(hidden_dims=hidden_dims, nu=0.01)\n",
    "num_params = sum(p.numel() for p in model.parameters())\n",
    "print(f\"Number of parameters: {num_params}\")"
   ]
  },
  {
   "cell_type": "code",
   "execution_count": 6,
   "metadata": {},
   "outputs": [],
   "source": [
    "# data\n",
    "train_data, test_data = get_burgers_dataset()"
   ]
  },
  {
   "cell_type": "code",
   "execution_count": 7,
   "metadata": {},
   "outputs": [
    {
     "name": "stdout",
     "output_type": "stream",
     "text": [
      "Output dir: result_Burgers/pinn-bs256-lr0.001-lrstep1-lrgamma0.5-epoch5\n",
      "====== Training ======\n",
      "# epochs: 5\n",
      "# examples: 85000000\n",
      "# samples used per epoch: 10000\n",
      "batch size: 256\n",
      "# steps: 40\n",
      "====== Epoch 0 ======\n"
     ]
    },
    {
     "name": "stderr",
     "output_type": "stream",
     "text": [
      "1it [01:49, 109.51s/it]"
     ]
    },
    {
     "name": "stdout",
     "output_type": "stream",
     "text": [
      "{'step': 0, 'loss': 504.058929, 'loss_x_neg': 504.0589294433594, 'loss_y_pos': 504.0589294433594, 'lr': 0.001, 'time': 109.5}\n"
     ]
    },
    {
     "name": "stderr",
     "output_type": "stream",
     "text": [
      "6it [10:57, 109.37s/it]"
     ]
    },
    {
     "name": "stdout",
     "output_type": "stream",
     "text": [
      "{'step': 5, 'loss': 43.311134, 'loss_x_neg': 43.311134338378906, 'loss_y_pos': 43.311134338378906, 'lr': 0.001, 'time': 657.4}\n"
     ]
    },
    {
     "name": "stderr",
     "output_type": "stream",
     "text": [
      "11it [20:03, 109.23s/it]"
     ]
    },
    {
     "name": "stdout",
     "output_type": "stream",
     "text": [
      "{'step': 10, 'loss': 23.495062, 'loss_x_neg': 23.49506187438965, 'loss_y_pos': 23.49506187438965, 'lr': 0.001, 'time': 1203.4}\n"
     ]
    },
    {
     "name": "stderr",
     "output_type": "stream",
     "text": [
      "16it [29:09, 109.21s/it]"
     ]
    },
    {
     "name": "stdout",
     "output_type": "stream",
     "text": [
      "{'step': 15, 'loss': 16.521221, 'loss_x_neg': 16.521221160888672, 'loss_y_pos': 16.521221160888672, 'lr': 0.001, 'time': 1749.4}\n"
     ]
    },
    {
     "name": "stderr",
     "output_type": "stream",
     "text": [
      "21it [38:15, 109.19s/it]"
     ]
    },
    {
     "name": "stdout",
     "output_type": "stream",
     "text": [
      "{'step': 20, 'loss': 11.482031, 'loss_x_neg': 11.482030868530273, 'loss_y_pos': 11.482030868530273, 'lr': 0.001, 'time': 2295.3}\n"
     ]
    },
    {
     "name": "stderr",
     "output_type": "stream",
     "text": [
      "26it [47:21, 109.21s/it]"
     ]
    },
    {
     "name": "stdout",
     "output_type": "stream",
     "text": [
      "{'step': 25, 'loss': 14.015148, 'loss_x_neg': 14.015148162841797, 'loss_y_pos': 14.015148162841797, 'lr': 0.001, 'time': 2841.4}\n"
     ]
    },
    {
     "name": "stderr",
     "output_type": "stream",
     "text": [
      "31it [56:27, 109.19s/it]"
     ]
    },
    {
     "name": "stdout",
     "output_type": "stream",
     "text": [
      "{'step': 30, 'loss': 10.315323, 'loss_x_neg': 10.315322875976562, 'loss_y_pos': 10.315322875976562, 'lr': 0.001, 'time': 3387.3}\n"
     ]
    },
    {
     "name": "stderr",
     "output_type": "stream",
     "text": [
      "36it [1:05:33, 109.18s/it]"
     ]
    },
    {
     "name": "stdout",
     "output_type": "stream",
     "text": [
      "{'step': 35, 'loss': 6.793698, 'loss_x_neg': 6.793698310852051, 'loss_y_pos': 6.793698310852051, 'lr': 0.001, 'time': 3933.2}\n"
     ]
    },
    {
     "name": "stderr",
     "output_type": "stream",
     "text": [
      "40it [1:11:07, 106.69s/it]\n"
     ]
    },
    {
     "name": "stdout",
     "output_type": "stream",
     "text": [
      "Checkpointing to result_Burgers/pinn-bs256-lr0.001-lrstep1-lrgamma0.5-epoch5/ckpt-0\n",
      "====== Epoch 0 done ======\n",
      "====== Epoch 1 ======\n"
     ]
    },
    {
     "name": "stderr",
     "output_type": "stream",
     "text": [
      "1it [01:49, 109.20s/it]"
     ]
    },
    {
     "name": "stdout",
     "output_type": "stream",
     "text": [
      "{'step': 0, 'loss': 4.432625, 'loss_x_neg': 4.4326252937316895, 'loss_y_pos': 4.4326252937316895, 'lr': 0.001, 'time': 4376.8}\n"
     ]
    },
    {
     "name": "stderr",
     "output_type": "stream",
     "text": [
      "6it [10:55, 109.18s/it]"
     ]
    },
    {
     "name": "stdout",
     "output_type": "stream",
     "text": [
      "{'step': 5, 'loss': 3.31404, 'loss_x_neg': 3.314039707183838, 'loss_y_pos': 3.314039707183838, 'lr': 0.001, 'time': 4922.7}\n"
     ]
    },
    {
     "name": "stderr",
     "output_type": "stream",
     "text": [
      "11it [20:01, 109.19s/it]"
     ]
    },
    {
     "name": "stdout",
     "output_type": "stream",
     "text": [
      "{'step': 10, 'loss': 6.830685, 'loss_x_neg': 6.830684661865234, 'loss_y_pos': 6.830684661865234, 'lr': 0.001, 'time': 5468.7}\n"
     ]
    },
    {
     "name": "stderr",
     "output_type": "stream",
     "text": [
      "16it [29:07, 109.20s/it]"
     ]
    },
    {
     "name": "stdout",
     "output_type": "stream",
     "text": [
      "{'step': 15, 'loss': 17.324989, 'loss_x_neg': 17.324989318847656, 'loss_y_pos': 17.324989318847656, 'lr': 0.001, 'time': 6014.7}\n"
     ]
    },
    {
     "name": "stderr",
     "output_type": "stream",
     "text": [
      "21it [38:12, 109.19s/it]"
     ]
    },
    {
     "name": "stdout",
     "output_type": "stream",
     "text": [
      "{'step': 20, 'loss': 3.002655, 'loss_x_neg': 3.002655267715454, 'loss_y_pos': 3.002655267715454, 'lr': 0.001, 'time': 6560.6}\n"
     ]
    },
    {
     "name": "stderr",
     "output_type": "stream",
     "text": [
      "26it [47:18, 109.20s/it]"
     ]
    },
    {
     "name": "stdout",
     "output_type": "stream",
     "text": [
      "{'step': 25, 'loss': 4.194981, 'loss_x_neg': 4.194980621337891, 'loss_y_pos': 4.194980621337891, 'lr': 0.001, 'time': 7106.5}\n"
     ]
    },
    {
     "name": "stderr",
     "output_type": "stream",
     "text": [
      "31it [56:24, 109.20s/it]"
     ]
    },
    {
     "name": "stdout",
     "output_type": "stream",
     "text": [
      "{'step': 30, 'loss': 2.99191, 'loss_x_neg': 2.991910457611084, 'loss_y_pos': 2.991910457611084, 'lr': 0.001, 'time': 7652.5}\n"
     ]
    },
    {
     "name": "stderr",
     "output_type": "stream",
     "text": [
      "36it [1:05:30, 109.21s/it]"
     ]
    },
    {
     "name": "stdout",
     "output_type": "stream",
     "text": [
      "{'step': 35, 'loss': 2.55873, 'loss_x_neg': 2.558730363845825, 'loss_y_pos': 2.558730363845825, 'lr': 0.001, 'time': 8198.5}\n"
     ]
    },
    {
     "name": "stderr",
     "output_type": "stream",
     "text": [
      "40it [1:11:05, 106.63s/it]\n"
     ]
    },
    {
     "name": "stdout",
     "output_type": "stream",
     "text": [
      "Checkpointing to result_Burgers/pinn-bs256-lr0.001-lrstep1-lrgamma0.5-epoch5/ckpt-1\n",
      "====== Epoch 1 done ======\n",
      "====== Epoch 2 ======\n"
     ]
    },
    {
     "name": "stderr",
     "output_type": "stream",
     "text": [
      "1it [01:49, 109.17s/it]"
     ]
    },
    {
     "name": "stdout",
     "output_type": "stream",
     "text": [
      "{'step': 0, 'loss': 1.866998, 'loss_x_neg': 1.8669977188110352, 'loss_y_pos': 1.8669977188110352, 'lr': 0.001, 'time': 8642.1}\n"
     ]
    },
    {
     "name": "stderr",
     "output_type": "stream",
     "text": [
      "6it [10:55, 109.20s/it]"
     ]
    },
    {
     "name": "stdout",
     "output_type": "stream",
     "text": [
      "{'step': 5, 'loss': 4.781638, 'loss_x_neg': 4.781638145446777, 'loss_y_pos': 4.781638145446777, 'lr': 0.001, 'time': 9188.1}\n"
     ]
    },
    {
     "name": "stderr",
     "output_type": "stream",
     "text": [
      "11it [20:01, 109.21s/it]"
     ]
    },
    {
     "name": "stdout",
     "output_type": "stream",
     "text": [
      "{'step': 10, 'loss': 2.616898, 'loss_x_neg': 2.6168980598449707, 'loss_y_pos': 2.6168980598449707, 'lr': 0.001, 'time': 9734.3}\n"
     ]
    },
    {
     "name": "stderr",
     "output_type": "stream",
     "text": [
      "16it [29:06, 109.04s/it]"
     ]
    },
    {
     "name": "stdout",
     "output_type": "stream",
     "text": [
      "{'step': 15, 'loss': 6.032969, 'loss_x_neg': 6.0329694747924805, 'loss_y_pos': 6.0329694747924805, 'lr': 0.001, 'time': 10279.6}\n"
     ]
    },
    {
     "name": "stderr",
     "output_type": "stream",
     "text": [
      "21it [38:11, 108.97s/it]"
     ]
    },
    {
     "name": "stdout",
     "output_type": "stream",
     "text": [
      "{'step': 20, 'loss': 3.089488, 'loss_x_neg': 3.0894880294799805, 'loss_y_pos': 3.0894880294799805, 'lr': 0.001, 'time': 10824.3}\n"
     ]
    },
    {
     "name": "stderr",
     "output_type": "stream",
     "text": [
      "26it [47:16, 108.94s/it]"
     ]
    },
    {
     "name": "stdout",
     "output_type": "stream",
     "text": [
      "{'step': 25, 'loss': 1.858872, 'loss_x_neg': 1.8588718175888062, 'loss_y_pos': 1.8588718175888062, 'lr': 0.001, 'time': 11369.0}\n"
     ]
    },
    {
     "name": "stderr",
     "output_type": "stream",
     "text": [
      "31it [56:20, 108.93s/it]"
     ]
    },
    {
     "name": "stdout",
     "output_type": "stream",
     "text": [
      "{'step': 30, 'loss': 3.627474, 'loss_x_neg': 3.627474069595337, 'loss_y_pos': 3.627474069595337, 'lr': 0.001, 'time': 11913.7}\n"
     ]
    },
    {
     "name": "stderr",
     "output_type": "stream",
     "text": [
      "36it [1:05:25, 108.97s/it]"
     ]
    },
    {
     "name": "stdout",
     "output_type": "stream",
     "text": [
      "{'step': 35, 'loss': 1.912581, 'loss_x_neg': 1.9125808477401733, 'loss_y_pos': 1.9125808477401733, 'lr': 0.001, 'time': 12458.6}\n"
     ]
    },
    {
     "name": "stderr",
     "output_type": "stream",
     "text": [
      "40it [1:10:59, 106.48s/it]\n"
     ]
    },
    {
     "name": "stdout",
     "output_type": "stream",
     "text": [
      "Checkpointing to result_Burgers/pinn-bs256-lr0.001-lrstep1-lrgamma0.5-epoch5/ckpt-2\n",
      "====== Epoch 2 done ======\n",
      "====== Epoch 3 ======\n"
     ]
    },
    {
     "name": "stderr",
     "output_type": "stream",
     "text": [
      "1it [01:48, 108.91s/it]"
     ]
    },
    {
     "name": "stdout",
     "output_type": "stream",
     "text": [
      "{'step': 0, 'loss': 4.864593, 'loss_x_neg': 4.864592552185059, 'loss_y_pos': 4.864592552185059, 'lr': 0.001, 'time': 12901.2}\n"
     ]
    },
    {
     "name": "stderr",
     "output_type": "stream",
     "text": [
      "6it [10:53, 108.94s/it]"
     ]
    },
    {
     "name": "stdout",
     "output_type": "stream",
     "text": [
      "{'step': 5, 'loss': 3.190367, 'loss_x_neg': 3.190366744995117, 'loss_y_pos': 3.190366744995117, 'lr': 0.001, 'time': 13446.0}\n"
     ]
    },
    {
     "name": "stderr",
     "output_type": "stream",
     "text": [
      "11it [19:58, 108.94s/it]"
     ]
    },
    {
     "name": "stdout",
     "output_type": "stream",
     "text": [
      "{'step': 10, 'loss': 1.738026, 'loss_x_neg': 1.7380263805389404, 'loss_y_pos': 1.7380263805389404, 'lr': 0.001, 'time': 13990.7}\n"
     ]
    },
    {
     "name": "stderr",
     "output_type": "stream",
     "text": [
      "16it [29:03, 108.96s/it]"
     ]
    },
    {
     "name": "stdout",
     "output_type": "stream",
     "text": [
      "{'step': 15, 'loss': 5.19067, 'loss_x_neg': 5.190669536590576, 'loss_y_pos': 5.190669536590576, 'lr': 0.001, 'time': 14535.6}\n"
     ]
    },
    {
     "name": "stderr",
     "output_type": "stream",
     "text": [
      "21it [38:08, 108.96s/it]"
     ]
    },
    {
     "name": "stdout",
     "output_type": "stream",
     "text": [
      "{'step': 20, 'loss': 3.090025, 'loss_x_neg': 3.0900254249572754, 'loss_y_pos': 3.0900254249572754, 'lr': 0.001, 'time': 15080.4}\n"
     ]
    },
    {
     "name": "stderr",
     "output_type": "stream",
     "text": [
      "26it [47:12, 108.95s/it]"
     ]
    },
    {
     "name": "stdout",
     "output_type": "stream",
     "text": [
      "{'step': 25, 'loss': 3.791458, 'loss_x_neg': 3.7914576530456543, 'loss_y_pos': 3.7914576530456543, 'lr': 0.001, 'time': 15625.1}\n"
     ]
    },
    {
     "name": "stderr",
     "output_type": "stream",
     "text": [
      "31it [56:17, 108.93s/it]"
     ]
    },
    {
     "name": "stdout",
     "output_type": "stream",
     "text": [
      "{'step': 30, 'loss': 3.47206, 'loss_x_neg': 3.472059726715088, 'loss_y_pos': 3.472059726715088, 'lr': 0.001, 'time': 16169.7}\n"
     ]
    },
    {
     "name": "stderr",
     "output_type": "stream",
     "text": [
      "36it [1:05:22, 108.92s/it]"
     ]
    },
    {
     "name": "stdout",
     "output_type": "stream",
     "text": [
      "{'step': 35, 'loss': 1.537801, 'loss_x_neg': 1.5378007888793945, 'loss_y_pos': 1.5378007888793945, 'lr': 0.001, 'time': 16714.3}\n"
     ]
    },
    {
     "name": "stderr",
     "output_type": "stream",
     "text": [
      "40it [1:10:55, 106.40s/it]\n"
     ]
    },
    {
     "name": "stdout",
     "output_type": "stream",
     "text": [
      "Checkpointing to result_Burgers/pinn-bs256-lr0.001-lrstep1-lrgamma0.5-epoch5/ckpt-3\n",
      "====== Epoch 3 done ======\n",
      "====== Epoch 4 ======\n"
     ]
    },
    {
     "name": "stderr",
     "output_type": "stream",
     "text": [
      "1it [01:48, 108.85s/it]"
     ]
    },
    {
     "name": "stdout",
     "output_type": "stream",
     "text": [
      "{'step': 0, 'loss': 7.0468, 'loss_x_neg': 7.046800136566162, 'loss_y_pos': 7.046800136566162, 'lr': 0.001, 'time': 17157.0}\n"
     ]
    },
    {
     "name": "stderr",
     "output_type": "stream",
     "text": [
      "6it [10:53, 108.87s/it]"
     ]
    },
    {
     "name": "stdout",
     "output_type": "stream",
     "text": [
      "{'step': 5, 'loss': 3.913975, 'loss_x_neg': 3.9139747619628906, 'loss_y_pos': 3.9139747619628906, 'lr': 0.001, 'time': 17701.4}\n"
     ]
    },
    {
     "name": "stderr",
     "output_type": "stream",
     "text": [
      "11it [19:57, 108.90s/it]"
     ]
    },
    {
     "name": "stdout",
     "output_type": "stream",
     "text": [
      "{'step': 10, 'loss': 1.80029, 'loss_x_neg': 1.8002903461456299, 'loss_y_pos': 1.8002903461456299, 'lr': 0.001, 'time': 18245.9}\n"
     ]
    },
    {
     "name": "stderr",
     "output_type": "stream",
     "text": [
      "16it [29:02, 108.87s/it]"
     ]
    },
    {
     "name": "stdout",
     "output_type": "stream",
     "text": [
      "{'step': 15, 'loss': 2.515921, 'loss_x_neg': 2.515921115875244, 'loss_y_pos': 2.515921115875244, 'lr': 0.001, 'time': 18790.2}\n"
     ]
    },
    {
     "name": "stderr",
     "output_type": "stream",
     "text": [
      "21it [38:06, 108.88s/it]"
     ]
    },
    {
     "name": "stdout",
     "output_type": "stream",
     "text": [
      "{'step': 20, 'loss': 5.344807, 'loss_x_neg': 5.344807147979736, 'loss_y_pos': 5.344807147979736, 'lr': 0.001, 'time': 19334.6}\n"
     ]
    },
    {
     "name": "stderr",
     "output_type": "stream",
     "text": [
      "26it [47:10, 108.88s/it]"
     ]
    },
    {
     "name": "stdout",
     "output_type": "stream",
     "text": [
      "{'step': 25, 'loss': 4.637273, 'loss_x_neg': 4.637272834777832, 'loss_y_pos': 4.637272834777832, 'lr': 0.001, 'time': 19879.1}\n"
     ]
    },
    {
     "name": "stderr",
     "output_type": "stream",
     "text": [
      "31it [56:15, 108.87s/it]"
     ]
    },
    {
     "name": "stdout",
     "output_type": "stream",
     "text": [
      "{'step': 30, 'loss': 2.653798, 'loss_x_neg': 2.6537976264953613, 'loss_y_pos': 2.6537976264953613, 'lr': 0.001, 'time': 20423.4}\n"
     ]
    },
    {
     "name": "stderr",
     "output_type": "stream",
     "text": [
      "36it [1:05:19, 108.91s/it]"
     ]
    },
    {
     "name": "stdout",
     "output_type": "stream",
     "text": [
      "{'step': 35, 'loss': 3.365175, 'loss_x_neg': 3.365175485610962, 'loss_y_pos': 3.365175485610962, 'lr': 0.001, 'time': 20968.1}\n"
     ]
    },
    {
     "name": "stderr",
     "output_type": "stream",
     "text": [
      "40it [1:10:53, 106.34s/it]"
     ]
    },
    {
     "name": "stdout",
     "output_type": "stream",
     "text": [
      "Checkpointing to result_Burgers/pinn-bs256-lr0.001-lrstep1-lrgamma0.5-epoch5/ckpt-4\n",
      "====== Epoch 4 done ======\n",
      "====== Training done ======\n"
     ]
    },
    {
     "name": "stderr",
     "output_type": "stream",
     "text": [
      "\n"
     ]
    },
    {
     "data": {
      "image/png": "[encoded data removed]",
      "text/plain": [
       "<Figure size 640x480 with 1 Axes>"
      ]
     },
     "metadata": {},
     "output_type": "display_data"
    }
   ],
   "source": [
    "# train model\n",
    "trainer = Trainer(model)\n",
    "trainer.train(train_data)"
   ]
  },
  {
   "cell_type": "code",
   "execution_count": 8,
   "metadata": {},
   "outputs": [
    {
     "name": "stdout",
     "output_type": "stream",
     "text": [
      "====== Testing ======\n",
      "# examples: 15000000\n",
      "batch size: 256\n",
      "# steps: 58594\n"
     ]
    },
    {
     "name": "stderr",
     "output_type": "stream",
     "text": [
      "58594it [20:38, 47.30it/s]\n"
     ]
    },
    {
     "name": "stdout",
     "output_type": "stream",
     "text": [
      "====== Testing done ======\n"
     ]
    }
   ],
   "source": [
    "# predict\n",
    "predictions = trainer.predict(test_data)"
   ]
  },
  {
   "cell_type": "code",
   "execution_count": 13,
   "metadata": {},
   "outputs": [
    {
     "data": {
      "image/png": "[encoded data removed]",
      "text/plain": [
       "<Figure size 1200x600 with 4 Axes>"
      ]
     },
     "metadata": {},
     "output_type": "display_data"
    }
   ],
   "source": [
    "import matplotlib.pyplot as plt\n",
    "import numpy as np\n",
    "\n",
    "# Define the analytical solution\n",
    "def analytical_solution(x, t, U=1.0, alpha=0.01, k=np.pi):\n",
    "    return U * np.exp(-alpha * k**2 * t) * np.sin(k * x)\n",
    "\n",
    "# Extracting predictions\n",
    "u_pred = predictions['preds'].cpu().detach().numpy()\n",
    "\n",
    "# Assuming the test data contains the inputs x and t in the same order as the predictions\n",
    "x_test = test_data.examples[:, 1].cpu().detach().numpy()  # x values\n",
    "t_test = test_data.examples[:, 0].cpu().detach().numpy()  # t values\n",
    "\n",
    "# Reshape the data for plotting\n",
    "x_unique = np.unique(x_test)\n",
    "t_unique = np.unique(t_test)\n",
    "X, T = np.meshgrid(x_unique, t_unique)\n",
    "\n",
    "# Interpolate the predictions to the grid\n",
    "U_pred_grid = np.zeros(X.shape)\n",
    "for i in range(len(x_test)):\n",
    "    xi = np.where(x_unique == x_test[i])[0][0]\n",
    "    ti = np.where(t_unique == t_test[i])[0][0]\n",
    "    U_pred_grid[ti, xi] = u_pred[i]\n",
    "\n",
    "# Compute the analytical solution on the same grid\n",
    "U_analytical_grid = analytical_solution(X, T)\n",
    "\n",
    "# Visualization\n",
    "\n",
    "# Contour plot of the predicted velocity field\n",
    "plt.figure(figsize=(12, 6))\n",
    "plt.subplot(1, 2, 1)\n",
    "contour_pred = plt.contourf(X, T, U_pred_grid, levels=50, cmap='jet')\n",
    "plt.colorbar(contour_pred)\n",
    "plt.title('Predicted Velocity Field (u)')\n",
    "plt.xlabel('x')\n",
    "plt.ylabel('t')\n",
    "\n",
    "# Contour plot of the analytical velocity field\n",
    "plt.subplot(1, 2, 2)\n",
    "contour_analytical = plt.contourf(X, T, U_analytical_grid, levels=50, cmap='jet')\n",
    "plt.colorbar(contour_analytical)\n",
    "plt.title('Analytical Velocity Field (u)')\n",
    "plt.xlabel('x')\n",
    "plt.ylabel('t')\n",
    "\n",
    "plt.tight_layout()\n",
    "plt.show()"
   ]
  }
 ],
 "metadata": {
  "kernelspec": {
   "display_name": "Python 3",
   "language": "python",
   "name": "python3"
  },
  "language_info": {
   "codemirror_mode": {
    "name": "ipython",
    "version": 3
   },
   "file_extension": ".py",
   "mimetype": "text/x-python",
   "name": "python",
   "nbconvert_exporter": "python",
   "pygments_lexer": "ipython3",
   "version": "3.10.14"
  }
 },
 "nbformat": 4,
 "nbformat_minor": 2
}
