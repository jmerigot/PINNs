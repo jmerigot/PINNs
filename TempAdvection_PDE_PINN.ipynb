{
 "cells": [
  {
   "cell_type": "code",
   "execution_count": 12,
   "metadata": {},
   "outputs": [],
   "source": [
    "import numpy as np\n",
    "import matplotlib.pyplot as plt\n",
    "from matplotlib.colors import Normalize\n",
    "from tqdm import tqdm"
   ]
  },
  {
   "cell_type": "code",
   "execution_count": 13,
   "metadata": {},
   "outputs": [],
   "source": [
    "# constants\n",
    "U0 = 0.5\n",
    "V0 = 0.05\n",
    "T0 = 5\n",
    "L1 = 2 * 10**5\n",
    "L2 = 2 * 10**5\n",
    "c = 1  # Speed of the moving wave\n",
    "time_simulation = 10 * 86400  # 40 days (86400 seconds in a day)\n",
    "\n",
    "# grid spacing and time step\n",
    "Nx = 128  # Increased resolution\n",
    "Ny = 128  # Increased resolution\n",
    "dx = L1 / Nx\n",
    "dy = L2 / Ny\n",
    "\n",
    "# calculate the CFL condition\n",
    "delta_t_U = dx / U0\n",
    "delta_t_V = dy / V0\n",
    "delta_t = min(delta_t_U, delta_t_V) # Further reduce to strictly respect CFL condition\n",
    "\n",
    "# space and time arrays\n",
    "X = np.linspace(0, L1, Nx)\n",
    "Y = np.linspace(0, L2, Ny)\n",
    "time = np.arange(0, time_simulation, delta_t)"
   ]
  },
  {
   "cell_type": "markdown",
   "metadata": {},
   "source": [
    "# Finite Difference Solver (Numerical Approach)"
   ]
  },
  {
   "cell_type": "code",
   "execution_count": 14,
   "metadata": {},
   "outputs": [
    {
     "data": {
      "text/plain": [
       "\"\\n# Plot temperature at x=0 boundary condition\\nplt.figure(figsize=(18, 6))\\nplt.imshow(T[0, :, :].T, cmap='seismic', norm=norm, aspect='auto')\\nplt.title('Boundary Condition Temperature at x=0')\\nplt.colorbar()\\nplt.show()\\n\\n# Advection solver using finite difference method\\nfor n in range(len(time) - 1):\\n    for i in range(1, Nx):\\n        for j in range(1, Ny-1):\\n            T_x = (T[i, j, n] - T[i-1, j, n]) / dx\\n            T_y = (T[i, j, n] - T[i, j-1, n]) / dy\\n            T[i, j, n+1] = T[i, j, n] - delta_t * (U(Y[j]) * T_x + V(Y[j]) * T_y)\\n\\n# Plot the final temperature distribution\\nplt.figure(figsize=(18, 6))\\nplt.imshow(T[:, :, -1].T, cmap='seismic', norm=norm, extent=[0, L1, 0, L2], aspect='auto')\\nplt.title('Temperature Distribution at Final Time Step')\\nplt.colorbar()\\nplt.show()\\n\\n# Plot temperature distribution at intermediate time steps\\nnum_intermediate_steps = 4\\nfor k in range(1, num_intermediate_steps + 1):\\n    step = k * (len(time) // (num_intermediate_steps + 1))\\n    plt.figure(figsize=(18, 6))\\n    plt.imshow(T[:, :, step].T, cmap='seismic', norm=norm, extent=[0, L1, 0, L2], aspect='auto')\\n    plt.title(f'Temperature Distribution at Time Step {step}')\\n    plt.colorbar()\\n    plt.show()\\n\""
      ]
     },
     "execution_count": 14,
     "metadata": {},
     "output_type": "execute_result"
    }
   ],
   "source": [
    "# Velocity functions\n",
    "def U(y):\n",
    "    return U0 * np.sin(np.pi * y / L1)\n",
    "\n",
    "def V(y):\n",
    "    return V0 * np.sin(np.pi * y / L1)\n",
    "\n",
    "def U2(y, x):\n",
    "    return U0 * np.sin(np.pi * y / L1) * (1 - np.sin(4 * np.pi * x) / L2) # removed 0.5 * np.sin()\n",
    "\n",
    "def V2(y, x):\n",
    "    return V0 * np.sin(np.pi * y / L1) * (1 - np.sin(4 * np.pi * x) / L2) # removed 0.5 * np.sin()\n",
    "\n",
    "def U3(y, x, t):\n",
    "    return U0 * np.sin(np.pi * y / L1) * (1 - 0.5 * np.sin(4 * np.pi * (x - c * t)) / L2)\n",
    "\n",
    "def V3(y, x, t):\n",
    "    return V0 * np.sin(np.pi * y / L1) * (1 - 0.5 * np.sin(4 * np.pi * (x - c * t)) / L2)\n",
    "\n",
    "# Initial temperature at x=0\n",
    "def temperature_x0(y, t):\n",
    "    return T0 * np.sin((3 * np.pi * y) / L1) * np.sin((2 * np.pi * t) / (time_simulation))\n",
    "\n",
    "# Initialize temperature array\n",
    "T = np.zeros((Nx, Ny, len(time)))\n",
    "for j in range(Ny):\n",
    "    T[:, j, 0] = temperature_x0(Y[j], 0)\n",
    "\n",
    "# Set boundary conditions for all time steps\n",
    "for i in range(len(time)):\n",
    "    T[0, :, i] = temperature_x0(Y, time[i])\n",
    "\n",
    "\n",
    "# Find global min and max temperatures for normalization\n",
    "T_min = np.min(T)\n",
    "T_max = np.max(T)\n",
    "\n",
    "# Normalizer for colormap\n",
    "norm = Normalize(vmin=T_min, vmax=T_max)\n",
    "\n",
    "\n",
    "# Plot temperature at x=0 boundary condition\n",
    "plt.figure(figsize=(18, 6))\n",
    "plt.imshow(T[0, :, :].T, cmap='seismic', norm=norm, aspect='auto')\n",
    "plt.title('Boundary Condition Temperature at x=0')\n",
    "plt.colorbar()\n",
    "plt.show()\n",
    "\n",
    "# Advection solver using finite difference method\n",
    "for n in range(len(time) - 1):\n",
    "    for i in range(1, Nx):\n",
    "        for j in range(1, Ny-1):\n",
    "            T_x = (T[i, j, n] - T[i-1, j, n]) / dx\n",
    "            T_y = (T[i, j, n] - T[i, j-1, n]) / dy\n",
    "            T[i, j, n+1] = T[i, j, n] - delta_t * (U(Y[j]) * T_x + V(Y[j]) * T_y)\n",
    "\n",
    "# Plot the final temperature distribution\n",
    "plt.figure(figsize=(18, 6))\n",
    "plt.imshow(T[:, :, -1].T, cmap='seismic', norm=norm, extent=[0, L1, 0, L2], aspect='auto')\n",
    "plt.title('Temperature Distribution at Final Time Step')\n",
    "plt.colorbar()\n",
    "plt.show()\n",
    "\n",
    "# Plot temperature distribution at intermediate time steps\n",
    "num_intermediate_steps = 4\n",
    "for k in range(1, num_intermediate_steps + 1):\n",
    "    step = k * (len(time) // (num_intermediate_steps + 1))\n",
    "    plt.figure(figsize=(18, 6))\n",
    "    plt.imshow(T[:, :, step].T, cmap='seismic', norm=norm, extent=[0, L1, 0, L2], aspect='auto')\n",
    "    plt.title(f'Temperature Distribution at Time Step {step}')\n",
    "    plt.colorbar()\n",
    "    plt.show()"
   ]
  },
  {
   "cell_type": "markdown",
   "metadata": {},
   "source": [
    "# Physics-Informed Neural Network (Deep Learning approach)"
   ]
  },
  {
   "cell_type": "code",
   "execution_count": 15,
   "metadata": {},
   "outputs": [],
   "source": [
    "import torch\n",
    "import torch.nn as nn\n",
    "import torch.optim as optim\n",
    "from torch.autograd import Variable\n",
    "import numpy as np\n",
    "import matplotlib.pyplot as plt\n",
    "from tqdm import tqdm\n",
    "import random\n",
    "\n",
    "device = torch.device(\"cuda:0\" if torch.cuda.is_available() else \"cpu\")"
   ]
  },
  {
   "cell_type": "code",
   "execution_count": 16,
   "metadata": {},
   "outputs": [],
   "source": [
    "class MLP(nn.Module):\n",
    "    def __init__(self, input_dim, output_dim, hidden_dim, num_layers):\n",
    "        super(MLP, self).__init__()\n",
    "        self.layers = nn.ModuleList()\n",
    "        self.layers.append(nn.Linear(input_dim, hidden_dim))\n",
    "        for _ in range(num_layers - 1):\n",
    "            self.layers.append(nn.Linear(hidden_dim, hidden_dim))\n",
    "        self.layers.append(nn.Linear(hidden_dim, output_dim))\n",
    "    \n",
    "    def forward(self, x):\n",
    "        for layer in self.layers[:-1]:\n",
    "            x = torch.tanh(layer(x))\n",
    "        x = self.layers[-1](x)\n",
    "        return x\n",
    "\n",
    "class MLP_L(nn.Module):\n",
    "    def __init__(self):\n",
    "        super().__init__()\n",
    "        self.layers = nn.Sequential(\n",
    "            nn.Linear(3, 32),\n",
    "            nn.SiLU(),\n",
    "            nn.Linear(32, 64),\n",
    "            nn.SiLU(),\n",
    "            nn.Linear(64, 128),\n",
    "            nn.SiLU(),\n",
    "            nn.Linear(128, 256),\n",
    "            nn.SiLU(),\n",
    "            nn.Linear(256, 128),\n",
    "            nn.SiLU(),\n",
    "            nn.Linear(128, 32),\n",
    "            nn.SiLU(),\n",
    "            nn.Linear(32, 1)\n",
    "        )\n",
    "\n",
    "    def forward(self, x):\n",
    "        res = self.layers(x)\n",
    "        return res.view(x.shape[0], 1)\n",
    "    \n",
    "class new_MLP(nn.Module):\n",
    "    def __init__(self, hidden_dim):\n",
    "        super(new_MLP, self).__init__()\n",
    "        self.layers = nn.Sequential(\n",
    "            nn.Linear(3, 64),\n",
    "            nn.SiLU(),\n",
    "            nn.BatchNorm1d(64),\n",
    "            nn.Linear(64, 128),\n",
    "            nn.SiLU(),\n",
    "            nn.BatchNorm1d(128),\n",
    "            nn.Linear(128, 128),\n",
    "            nn.SiLU(),\n",
    "            nn.BatchNorm1d(128),\n",
    "            nn.Linear(128, hidden_dim),\n",
    "            nn.SiLU(),\n",
    "            nn.BatchNorm1d(hidden_dim),\n",
    "            nn.Linear(hidden_dim, hidden_dim),\n",
    "            nn.SiLU(),\n",
    "            nn.BatchNorm1d(hidden_dim),\n",
    "            nn.Linear(hidden_dim, hidden_dim),\n",
    "            nn.SiLU(),\n",
    "            nn.BatchNorm1d(hidden_dim),\n",
    "            nn.Linear(hidden_dim, 128),\n",
    "            nn.SiLU(),\n",
    "            nn.BatchNorm1d(128),\n",
    "            nn.Linear(128, 128),\n",
    "            nn.SiLU(),\n",
    "            nn.BatchNorm1d(128),\n",
    "            nn.Linear(128, 64),\n",
    "            nn.SiLU(),\n",
    "            nn.BatchNorm1d(64),\n",
    "            nn.Linear(64, 1)\n",
    "        )\n",
    "    \n",
    "    def forward(self, x):\n",
    "        out = self.layers(x)\n",
    "        return out\n",
    "\n",
    "class ImprovedMLP(nn.Module):\n",
    "    def __init__(self, input_dim, output_dim, hidden_dim, num_layers, dropout_prob=0.5):\n",
    "        super(ImprovedMLP, self).__init__()\n",
    "        layers = [nn.Linear(input_dim, hidden_dim), nn.SiLU(), nn.BatchNorm1d(hidden_dim)]\n",
    "        for _ in range(num_layers - 1):\n",
    "            layers += [nn.Linear(hidden_dim, hidden_dim), nn.SiLU(), nn.BatchNorm1d(hidden_dim), nn.Dropout(dropout_prob)]\n",
    "        layers += [nn.Linear(hidden_dim, output_dim)]\n",
    "        self.model = nn.Sequential(*layers)\n",
    "    \n",
    "    def forward(self, x):\n",
    "        return self.model(x)\n",
    "    \n",
    "class BurgersMLP(nn.Module):\n",
    "    def __init__(self, hidden_dims):\n",
    "        super(BurgersMLP, self).__init__()\n",
    "        self.hidden_dims = hidden_dims\n",
    "        self.ffn_layers = []\n",
    "        input_dim = 3 # inputs are x, y, t\n",
    "        for hidden_dim in hidden_dims:\n",
    "            self.ffn_layers.append(nn.Linear(input_dim, hidden_dim))\n",
    "            self.ffn_layers.append(nn.Tanh())\n",
    "            input_dim = hidden_dim\n",
    "        self.ffn_layers.append(nn.Linear(input_dim, 1)) # output is u ?\n",
    "        self.ffn = nn.Sequential(*self.ffn_layers)\n",
    "        \n",
    "        self.init_weights()\n",
    "    \n",
    "    def init_weights(self):\n",
    "        for m in self.modules():\n",
    "            if isinstance(m, nn.Linear):\n",
    "                nn.init.xavier_uniform_(m.weight)\n",
    "                nn.init.constant_(m.bias, 0.0)\n",
    "                \n",
    "    def forward(self, x):\n",
    "        return self.ffn(x)"
   ]
  },
  {
   "cell_type": "code",
   "execution_count": 17,
   "metadata": {},
   "outputs": [],
   "source": [
    "# velocity equations using torch in order to use cuda:0\n",
    "def U(y):\n",
    "    return U0 * torch.sin(torch.pi * y / L1)\n",
    "\n",
    "def V(y):\n",
    "    return V0 * torch.sin(torch.pi * y / L1)\n",
    "\n",
    "def U2(y, x):\n",
    "    return U0 * torch.sin(torch.pi * y / L1) * (1 - 0.5 * torch.sin(4 * torch.pi * x) / L2)\n",
    "\n",
    "def V2(y, x):\n",
    "    return V0 * torch.sin(torch.pi * y / L1) * (1 - 0.5 * torch.sin(4 * torch.pi * x) / L2)\n",
    "\n",
    "def U3(y, x, t):\n",
    "    return U0 * torch.sin(torch.pi * y / L1) * (1 - 0.5 * torch.sin((4 * torch.pi * (x - c * t)) / L2))\n",
    "\n",
    "def V3(y, x, t):\n",
    "    return V0 * torch.sin(torch.pi * y / L1) * (1 - 0.5 * torch.sin((4 * torch.pi * (x - c * t)) / L2))"
   ]
  },
  {
   "cell_type": "code",
   "execution_count": 18,
   "metadata": {},
   "outputs": [],
   "source": [
    "# physics-informed loss\n",
    "def pde_informed_loss(model, x, y, t, criterion):\n",
    "    x.requires_grad_(True)\n",
    "    y.requires_grad_(True)\n",
    "    t.requires_grad_(True)\n",
    "    \n",
    "    T_pred = model(torch.cat([x, y, t], dim=1))\n",
    "    \n",
    "    T_pred_x = torch.autograd.grad(T_pred.sum(), x, create_graph=True)[0]\n",
    "    T_pred_y = torch.autograd.grad(T_pred.sum(), y, create_graph=True)[0]\n",
    "    T_pred_t = torch.autograd.grad(T_pred.sum(), t, create_graph=True)[0]\n",
    "    \n",
    "    U_val = U(y)\n",
    "    V_val = V(y)\n",
    "    \n",
    "    k = 200\n",
    "    pde = U_val * k * T_pred_x + V_val * k * T_pred_y + k * T_pred_t\n",
    "    loss_pde = criterion(1000000*pde, torch.zeros_like(pde))\n",
    "    \n",
    "    return loss_pde\n",
    "\n",
    "# data-informed loss \n",
    "def boundary_condition_loss(model, y, t, criterion):\n",
    "    global T0, time\n",
    "    \n",
    "    # initial temperature boundary where x=0 everywhere\n",
    "    x = torch.zeros(y.shape, dtype=torch.float32).to(device)\n",
    "    T_pred = model(torch.cat([x, y, t], dim=1))\n",
    "    T_true = T0 * torch.sin((2 * torch.pi * y) / L1) * torch.sin((2 * torch.pi * t) / (time_simulation)).to(device)\n",
    "    \n",
    "    loss_data = criterion(T_pred, T_true)\n",
    "    return loss_data"
   ]
  },
  {
   "cell_type": "code",
   "execution_count": 19,
   "metadata": {},
   "outputs": [],
   "source": [
    "disc_x = np.linspace(0, L1, 128)\n",
    "disc_y = np.linspace(0, L2, 128)\n",
    "disc_t = np.arange(0, time_simulation, delta_t)\n",
    "\n",
    "# generate sample data for pde\n",
    "def generate_pde_data(batch_size, device):\n",
    "    global T0, L1, L2, time_simulation, disc_x, disc_y, disc_t\n",
    "    \n",
    "    idx_x = np.random.randint(0, 128, batch_size)\n",
    "    idx_y = np.random.randint(0, 128, batch_size)\n",
    "    idx_t = np.random.randint(0, len(disc_t), batch_size)\n",
    "    \n",
    "    x = [disc_x[idx_x[i]] for i in range(batch_size)]\n",
    "    y = [disc_y[idx_y[i]] for i in range(batch_size)]\n",
    "    t = [disc_t[idx_t[i]] for i in range(batch_size)]\n",
    "        \n",
    "    # to tensors\n",
    "    x = torch.tensor(x, dtype=torch.float32).reshape(-1, 1).to(device)\n",
    "    y = torch.tensor(y, dtype=torch.float32).reshape(-1, 1).to(device)\n",
    "    t = torch.tensor(t, dtype=torch.float32).reshape(-1, 1).to(device)\n",
    "    \n",
    "    return x, y, t\n",
    "\n",
    "def generate_boundary_condition_data(batch_size, device):\n",
    "    global Y, time\n",
    "    \n",
    "    num_y = len(Y)\n",
    "    num_t = len(time)\n",
    "    \n",
    "    total_points = num_y * num_t  # total number of boundary condition data points\n",
    "\n",
    "    for start in range(0, total_points, batch_size):\n",
    "        end = min(start + batch_size, total_points)\n",
    "        \n",
    "        pt_y_bc = torch.tensor(np.repeat(Y, num_t)[start:end], dtype=torch.float32, requires_grad=False).to(device).view(-1, 1)\n",
    "        pt_t_bc = torch.tensor(np.tile(time, num_y)[start:end], dtype=torch.float32, requires_grad=False).to(device).view(-1, 1)        \n",
    "        \n",
    "        yield pt_y_bc, pt_t_bc"
   ]
  },
  {
   "cell_type": "code",
   "execution_count": 20,
   "metadata": {},
   "outputs": [],
   "source": [
    "def train_model(model, criterion, optimizer, num_epochs, device=device, batch_size=512, pde_weight=10.0):\n",
    "    \n",
    "    #scheduler = torch.optim.lr_scheduler.ReduceLROnPlateau(optimizer, mode='min', factor=0.1, patience=25, verbose=True)\n",
    "    \n",
    "    for epoch in range(num_epochs):\n",
    "        \n",
    "        total_loss = 0\n",
    "        data_loss_total = 0\n",
    "        pde_loss_total = 0\n",
    "        \n",
    "        for y_bc, t_bc in tqdm(generate_boundary_condition_data(batch_size, device), desc=f'Epoch {epoch+1}/{num_epochs}'):\n",
    "\n",
    "            optimizer.zero_grad()\n",
    "            x_pde, y_pde, t_pde = generate_pde_data(batch_size, device)\n",
    "            \n",
    "            loss_data = boundary_condition_loss(model, y_bc, t_bc, criterion)\n",
    "            loss_pde = pde_informed_loss(model, x_pde, y_pde, t_pde, criterion)\n",
    "            \n",
    "            loss = loss_data + pde_weight * loss_pde\n",
    "            loss.backward()\n",
    "            optimizer.step()\n",
    "            \n",
    "            total_loss += loss.item()\n",
    "            data_loss_total += loss_data.item()\n",
    "            pde_loss_total += loss_pde.item()\n",
    "        \n",
    "        #scheduler.step(total_loss)\n",
    "\n",
    "        print(f\"Epoch {epoch+1}/{num_epochs}: Total Loss = {total_loss:.4f} | Data Loss = {data_loss_total:.4f} | PDE Loss = {pde_loss_total:.4f}\")"
   ]
  },
  {
   "cell_type": "code",
   "execution_count": 21,
   "metadata": {},
   "outputs": [
    {
     "name": "stderr",
     "output_type": "stream",
     "text": [
      "Epoch 1/200: 0it [00:00, ?it/s]"
     ]
    },
    {
     "name": "stderr",
     "output_type": "stream",
     "text": [
      "Epoch 1/200: 3it [00:00, 10.80it/s]\n"
     ]
    },
    {
     "name": "stdout",
     "output_type": "stream",
     "text": [
      "Epoch 1/200: Total Loss = 22.7545 | Data Loss = 22.7545 | PDE Loss = 0.0000\n"
     ]
    },
    {
     "name": "stderr",
     "output_type": "stream",
     "text": [
      "Epoch 2/200: 3it [00:00, 11.11it/s]\n"
     ]
    },
    {
     "name": "stdout",
     "output_type": "stream",
     "text": [
      "Epoch 2/200: Total Loss = 18.9858 | Data Loss = 18.9858 | PDE Loss = 0.0000\n"
     ]
    },
    {
     "name": "stderr",
     "output_type": "stream",
     "text": [
      "Epoch 3/200: 3it [00:00, 11.00it/s]\n"
     ]
    },
    {
     "name": "stdout",
     "output_type": "stream",
     "text": [
      "Epoch 3/200: Total Loss = 17.8809 | Data Loss = 17.8809 | PDE Loss = 0.0000\n"
     ]
    },
    {
     "name": "stderr",
     "output_type": "stream",
     "text": [
      "Epoch 4/200: 3it [00:00, 11.14it/s]\n"
     ]
    },
    {
     "name": "stdout",
     "output_type": "stream",
     "text": [
      "Epoch 4/200: Total Loss = 15.5556 | Data Loss = 15.5556 | PDE Loss = 0.0000\n"
     ]
    },
    {
     "name": "stderr",
     "output_type": "stream",
     "text": [
      "Epoch 5/200: 3it [00:00, 11.14it/s]\n"
     ]
    },
    {
     "name": "stdout",
     "output_type": "stream",
     "text": [
      "Epoch 5/200: Total Loss = 14.7584 | Data Loss = 14.7584 | PDE Loss = 0.0000\n"
     ]
    },
    {
     "name": "stderr",
     "output_type": "stream",
     "text": [
      "Epoch 6/200: 3it [00:00, 10.94it/s]\n"
     ]
    },
    {
     "name": "stdout",
     "output_type": "stream",
     "text": [
      "Epoch 6/200: Total Loss = 14.2501 | Data Loss = 14.2501 | PDE Loss = 0.0000\n"
     ]
    },
    {
     "name": "stderr",
     "output_type": "stream",
     "text": [
      "Epoch 7/200: 3it [00:00, 11.10it/s]\n"
     ]
    },
    {
     "name": "stdout",
     "output_type": "stream",
     "text": [
      "Epoch 7/200: Total Loss = 13.8359 | Data Loss = 13.8359 | PDE Loss = 0.0000\n"
     ]
    },
    {
     "name": "stderr",
     "output_type": "stream",
     "text": [
      "Epoch 8/200: 3it [00:00, 10.85it/s]\n"
     ]
    },
    {
     "name": "stdout",
     "output_type": "stream",
     "text": [
      "Epoch 8/200: Total Loss = 13.7243 | Data Loss = 13.7243 | PDE Loss = 0.0000\n"
     ]
    },
    {
     "name": "stderr",
     "output_type": "stream",
     "text": [
      "Epoch 9/200: 3it [00:00, 11.11it/s]\n"
     ]
    },
    {
     "name": "stdout",
     "output_type": "stream",
     "text": [
      "Epoch 9/200: Total Loss = 13.7143 | Data Loss = 13.7143 | PDE Loss = 0.0000\n"
     ]
    },
    {
     "name": "stderr",
     "output_type": "stream",
     "text": [
      "Epoch 10/200: 3it [00:00, 11.10it/s]\n"
     ]
    },
    {
     "name": "stdout",
     "output_type": "stream",
     "text": [
      "Epoch 10/200: Total Loss = 13.7315 | Data Loss = 13.7315 | PDE Loss = 0.0000\n"
     ]
    },
    {
     "name": "stderr",
     "output_type": "stream",
     "text": [
      "Epoch 11/200: 3it [00:00, 10.91it/s]\n"
     ]
    },
    {
     "name": "stdout",
     "output_type": "stream",
     "text": [
      "Epoch 11/200: Total Loss = 13.6554 | Data Loss = 13.6554 | PDE Loss = 0.0000\n"
     ]
    },
    {
     "name": "stderr",
     "output_type": "stream",
     "text": [
      "Epoch 12/200: 3it [00:00, 10.97it/s]\n"
     ]
    },
    {
     "name": "stdout",
     "output_type": "stream",
     "text": [
      "Epoch 12/200: Total Loss = 13.4775 | Data Loss = 13.4775 | PDE Loss = 0.0000\n"
     ]
    },
    {
     "name": "stderr",
     "output_type": "stream",
     "text": [
      "Epoch 13/200: 3it [00:00, 11.11it/s]\n"
     ]
    },
    {
     "name": "stdout",
     "output_type": "stream",
     "text": [
      "Epoch 13/200: Total Loss = 13.2219 | Data Loss = 13.2219 | PDE Loss = 0.0000\n"
     ]
    },
    {
     "name": "stderr",
     "output_type": "stream",
     "text": [
      "Epoch 14/200: 3it [00:00, 11.10it/s]\n"
     ]
    },
    {
     "name": "stdout",
     "output_type": "stream",
     "text": [
      "Epoch 14/200: Total Loss = 12.8036 | Data Loss = 12.8036 | PDE Loss = 0.0000\n"
     ]
    },
    {
     "name": "stderr",
     "output_type": "stream",
     "text": [
      "Epoch 15/200: 3it [00:00, 11.07it/s]\n"
     ]
    },
    {
     "name": "stdout",
     "output_type": "stream",
     "text": [
      "Epoch 15/200: Total Loss = 12.2727 | Data Loss = 12.2727 | PDE Loss = 0.0000\n"
     ]
    },
    {
     "name": "stderr",
     "output_type": "stream",
     "text": [
      "Epoch 16/200: 3it [00:00, 11.06it/s]\n"
     ]
    },
    {
     "name": "stdout",
     "output_type": "stream",
     "text": [
      "Epoch 16/200: Total Loss = 13.3964 | Data Loss = 13.3964 | PDE Loss = 0.0000\n"
     ]
    },
    {
     "name": "stderr",
     "output_type": "stream",
     "text": [
      "Epoch 17/200: 3it [00:00, 10.82it/s]\n"
     ]
    },
    {
     "name": "stdout",
     "output_type": "stream",
     "text": [
      "Epoch 17/200: Total Loss = 12.5959 | Data Loss = 12.5959 | PDE Loss = 0.0000\n"
     ]
    },
    {
     "name": "stderr",
     "output_type": "stream",
     "text": [
      "Epoch 18/200: 3it [00:00, 11.11it/s]\n"
     ]
    },
    {
     "name": "stdout",
     "output_type": "stream",
     "text": [
      "Epoch 18/200: Total Loss = 11.8276 | Data Loss = 11.8276 | PDE Loss = 0.0000\n"
     ]
    },
    {
     "name": "stderr",
     "output_type": "stream",
     "text": [
      "Epoch 19/200: 3it [00:00, 11.12it/s]\n"
     ]
    },
    {
     "name": "stdout",
     "output_type": "stream",
     "text": [
      "Epoch 19/200: Total Loss = 10.5164 | Data Loss = 10.5164 | PDE Loss = 0.0000\n"
     ]
    },
    {
     "name": "stderr",
     "output_type": "stream",
     "text": [
      "Epoch 20/200: 3it [00:00, 11.12it/s]\n"
     ]
    },
    {
     "name": "stdout",
     "output_type": "stream",
     "text": [
      "Epoch 20/200: Total Loss = 9.0201 | Data Loss = 9.0201 | PDE Loss = 0.0000\n"
     ]
    },
    {
     "name": "stderr",
     "output_type": "stream",
     "text": [
      "Epoch 21/200: 3it [00:00, 11.07it/s]\n"
     ]
    },
    {
     "name": "stdout",
     "output_type": "stream",
     "text": [
      "Epoch 21/200: Total Loss = 7.2097 | Data Loss = 7.2097 | PDE Loss = 0.0000\n"
     ]
    },
    {
     "name": "stderr",
     "output_type": "stream",
     "text": [
      "Epoch 22/200: 3it [00:00, 11.09it/s]\n"
     ]
    },
    {
     "name": "stdout",
     "output_type": "stream",
     "text": [
      "Epoch 22/200: Total Loss = 5.9689 | Data Loss = 5.9689 | PDE Loss = 0.0000\n"
     ]
    },
    {
     "name": "stderr",
     "output_type": "stream",
     "text": [
      "Epoch 23/200: 3it [00:00, 11.12it/s]\n"
     ]
    },
    {
     "name": "stdout",
     "output_type": "stream",
     "text": [
      "Epoch 23/200: Total Loss = 5.5753 | Data Loss = 5.5753 | PDE Loss = 0.0000\n"
     ]
    },
    {
     "name": "stderr",
     "output_type": "stream",
     "text": [
      "Epoch 24/200: 3it [00:00, 11.09it/s]\n"
     ]
    },
    {
     "name": "stdout",
     "output_type": "stream",
     "text": [
      "Epoch 24/200: Total Loss = 5.7237 | Data Loss = 5.7237 | PDE Loss = 0.0000\n"
     ]
    },
    {
     "name": "stderr",
     "output_type": "stream",
     "text": [
      "Epoch 25/200: 3it [00:00, 11.11it/s]\n"
     ]
    },
    {
     "name": "stdout",
     "output_type": "stream",
     "text": [
      "Epoch 25/200: Total Loss = 8.5531 | Data Loss = 8.5531 | PDE Loss = 0.0000\n"
     ]
    },
    {
     "name": "stderr",
     "output_type": "stream",
     "text": [
      "Epoch 26/200: 3it [00:00, 11.07it/s]\n"
     ]
    },
    {
     "name": "stdout",
     "output_type": "stream",
     "text": [
      "Epoch 26/200: Total Loss = 7.8652 | Data Loss = 7.8652 | PDE Loss = 0.0000\n"
     ]
    },
    {
     "name": "stderr",
     "output_type": "stream",
     "text": [
      "Epoch 27/200: 3it [00:00, 11.07it/s]\n"
     ]
    },
    {
     "name": "stdout",
     "output_type": "stream",
     "text": [
      "Epoch 27/200: Total Loss = 9.1474 | Data Loss = 9.1474 | PDE Loss = 0.0000\n"
     ]
    },
    {
     "name": "stderr",
     "output_type": "stream",
     "text": [
      "Epoch 28/200: 3it [00:00, 11.08it/s]\n"
     ]
    },
    {
     "name": "stdout",
     "output_type": "stream",
     "text": [
      "Epoch 28/200: Total Loss = 5.7401 | Data Loss = 5.7401 | PDE Loss = 0.0000\n"
     ]
    },
    {
     "name": "stderr",
     "output_type": "stream",
     "text": [
      "Epoch 29/200: 3it [00:00, 11.08it/s]\n"
     ]
    },
    {
     "name": "stdout",
     "output_type": "stream",
     "text": [
      "Epoch 29/200: Total Loss = 5.9152 | Data Loss = 5.9152 | PDE Loss = 0.0000\n"
     ]
    },
    {
     "name": "stderr",
     "output_type": "stream",
     "text": [
      "Epoch 30/200: 3it [00:00, 11.08it/s]\n"
     ]
    },
    {
     "name": "stdout",
     "output_type": "stream",
     "text": [
      "Epoch 30/200: Total Loss = 5.1338 | Data Loss = 5.1338 | PDE Loss = 0.0000\n"
     ]
    },
    {
     "name": "stderr",
     "output_type": "stream",
     "text": [
      "Epoch 31/200: 3it [00:00, 11.08it/s]\n"
     ]
    },
    {
     "name": "stdout",
     "output_type": "stream",
     "text": [
      "Epoch 31/200: Total Loss = 4.7046 | Data Loss = 4.7046 | PDE Loss = 0.0000\n"
     ]
    },
    {
     "name": "stderr",
     "output_type": "stream",
     "text": [
      "Epoch 32/200: 3it [00:00, 11.10it/s]\n"
     ]
    },
    {
     "name": "stdout",
     "output_type": "stream",
     "text": [
      "Epoch 32/200: Total Loss = 4.5283 | Data Loss = 4.5283 | PDE Loss = 0.0000\n"
     ]
    },
    {
     "name": "stderr",
     "output_type": "stream",
     "text": [
      "Epoch 33/200: 3it [00:00, 11.07it/s]\n"
     ]
    },
    {
     "name": "stdout",
     "output_type": "stream",
     "text": [
      "Epoch 33/200: Total Loss = 3.9871 | Data Loss = 3.9871 | PDE Loss = 0.0000\n"
     ]
    },
    {
     "name": "stderr",
     "output_type": "stream",
     "text": [
      "Epoch 34/200: 3it [00:00, 11.06it/s]\n"
     ]
    },
    {
     "name": "stdout",
     "output_type": "stream",
     "text": [
      "Epoch 34/200: Total Loss = 3.6072 | Data Loss = 3.6072 | PDE Loss = 0.0000\n"
     ]
    },
    {
     "name": "stderr",
     "output_type": "stream",
     "text": [
      "Epoch 35/200: 3it [00:00, 11.14it/s]\n"
     ]
    },
    {
     "name": "stdout",
     "output_type": "stream",
     "text": [
      "Epoch 35/200: Total Loss = 3.2723 | Data Loss = 3.2723 | PDE Loss = 0.0000\n"
     ]
    },
    {
     "name": "stderr",
     "output_type": "stream",
     "text": [
      "Epoch 36/200: 3it [00:00, 11.11it/s]\n"
     ]
    },
    {
     "name": "stdout",
     "output_type": "stream",
     "text": [
      "Epoch 36/200: Total Loss = 2.9649 | Data Loss = 2.9649 | PDE Loss = 0.0000\n"
     ]
    },
    {
     "name": "stderr",
     "output_type": "stream",
     "text": [
      "Epoch 37/200: 3it [00:00, 11.16it/s]\n"
     ]
    },
    {
     "name": "stdout",
     "output_type": "stream",
     "text": [
      "Epoch 37/200: Total Loss = 2.6417 | Data Loss = 2.6417 | PDE Loss = 0.0000\n"
     ]
    },
    {
     "name": "stderr",
     "output_type": "stream",
     "text": [
      "Epoch 38/200: 3it [00:00, 11.11it/s]\n"
     ]
    },
    {
     "name": "stdout",
     "output_type": "stream",
     "text": [
      "Epoch 38/200: Total Loss = 2.3063 | Data Loss = 2.3063 | PDE Loss = 0.0000\n"
     ]
    },
    {
     "name": "stderr",
     "output_type": "stream",
     "text": [
      "Epoch 39/200: 3it [00:00, 11.10it/s]\n"
     ]
    },
    {
     "name": "stdout",
     "output_type": "stream",
     "text": [
      "Epoch 39/200: Total Loss = 1.8981 | Data Loss = 1.8981 | PDE Loss = 0.0000\n"
     ]
    },
    {
     "name": "stderr",
     "output_type": "stream",
     "text": [
      "Epoch 40/200: 3it [00:00, 11.14it/s]\n"
     ]
    },
    {
     "name": "stdout",
     "output_type": "stream",
     "text": [
      "Epoch 40/200: Total Loss = 1.5914 | Data Loss = 1.5914 | PDE Loss = 0.0000\n"
     ]
    },
    {
     "name": "stderr",
     "output_type": "stream",
     "text": [
      "Epoch 41/200: 3it [00:00, 11.10it/s]\n"
     ]
    },
    {
     "name": "stdout",
     "output_type": "stream",
     "text": [
      "Epoch 41/200: Total Loss = 1.5036 | Data Loss = 1.5036 | PDE Loss = 0.0000\n"
     ]
    },
    {
     "name": "stderr",
     "output_type": "stream",
     "text": [
      "Epoch 42/200: 3it [00:00, 11.10it/s]\n"
     ]
    },
    {
     "name": "stdout",
     "output_type": "stream",
     "text": [
      "Epoch 42/200: Total Loss = 2.7691 | Data Loss = 2.7691 | PDE Loss = 0.0000\n"
     ]
    },
    {
     "name": "stderr",
     "output_type": "stream",
     "text": [
      "Epoch 43/200: 3it [00:00, 11.13it/s]\n"
     ]
    },
    {
     "name": "stdout",
     "output_type": "stream",
     "text": [
      "Epoch 43/200: Total Loss = 2.5210 | Data Loss = 2.5210 | PDE Loss = 0.0000\n"
     ]
    },
    {
     "name": "stderr",
     "output_type": "stream",
     "text": [
      "Epoch 44/200: 3it [00:00, 11.14it/s]\n"
     ]
    },
    {
     "name": "stdout",
     "output_type": "stream",
     "text": [
      "Epoch 44/200: Total Loss = 1.9166 | Data Loss = 1.9166 | PDE Loss = 0.0000\n"
     ]
    },
    {
     "name": "stderr",
     "output_type": "stream",
     "text": [
      "Epoch 45/200: 3it [00:00, 11.12it/s]\n"
     ]
    },
    {
     "name": "stdout",
     "output_type": "stream",
     "text": [
      "Epoch 45/200: Total Loss = 1.4895 | Data Loss = 1.4895 | PDE Loss = 0.0000\n"
     ]
    },
    {
     "name": "stderr",
     "output_type": "stream",
     "text": [
      "Epoch 46/200: 3it [00:00, 11.15it/s]\n"
     ]
    },
    {
     "name": "stdout",
     "output_type": "stream",
     "text": [
      "Epoch 46/200: Total Loss = 1.1919 | Data Loss = 1.1919 | PDE Loss = 0.0000\n"
     ]
    },
    {
     "name": "stderr",
     "output_type": "stream",
     "text": [
      "Epoch 47/200: 3it [00:00, 11.14it/s]\n"
     ]
    },
    {
     "name": "stdout",
     "output_type": "stream",
     "text": [
      "Epoch 47/200: Total Loss = 0.8210 | Data Loss = 0.8210 | PDE Loss = 0.0000\n"
     ]
    },
    {
     "name": "stderr",
     "output_type": "stream",
     "text": [
      "Epoch 48/200: 3it [00:00, 11.15it/s]\n"
     ]
    },
    {
     "name": "stdout",
     "output_type": "stream",
     "text": [
      "Epoch 48/200: Total Loss = 54.0199 | Data Loss = 3.0186 | PDE Loss = 51.0013\n"
     ]
    },
    {
     "name": "stderr",
     "output_type": "stream",
     "text": [
      "Epoch 49/200: 3it [00:00, 11.12it/s]\n"
     ]
    },
    {
     "name": "stdout",
     "output_type": "stream",
     "text": [
      "Epoch 49/200: Total Loss = 24.5162 | Data Loss = 24.5162 | PDE Loss = 0.0000\n"
     ]
    },
    {
     "name": "stderr",
     "output_type": "stream",
     "text": [
      "Epoch 50/200: 3it [00:00, 11.10it/s]\n"
     ]
    },
    {
     "name": "stdout",
     "output_type": "stream",
     "text": [
      "Epoch 50/200: Total Loss = 18.1149 | Data Loss = 18.1149 | PDE Loss = 0.0000\n"
     ]
    },
    {
     "name": "stderr",
     "output_type": "stream",
     "text": [
      "Epoch 51/200: 3it [00:00, 10.99it/s]\n"
     ]
    },
    {
     "name": "stdout",
     "output_type": "stream",
     "text": [
      "Epoch 51/200: Total Loss = 14.2612 | Data Loss = 14.2612 | PDE Loss = 0.0000\n"
     ]
    },
    {
     "name": "stderr",
     "output_type": "stream",
     "text": [
      "Epoch 52/200: 3it [00:00, 11.12it/s]\n"
     ]
    },
    {
     "name": "stdout",
     "output_type": "stream",
     "text": [
      "Epoch 52/200: Total Loss = 14.1350 | Data Loss = 14.1350 | PDE Loss = 0.0000\n"
     ]
    },
    {
     "name": "stderr",
     "output_type": "stream",
     "text": [
      "Epoch 53/200: 3it [00:00, 11.13it/s]\n"
     ]
    },
    {
     "name": "stdout",
     "output_type": "stream",
     "text": [
      "Epoch 53/200: Total Loss = 14.6934 | Data Loss = 14.6934 | PDE Loss = 0.0000\n"
     ]
    },
    {
     "name": "stderr",
     "output_type": "stream",
     "text": [
      "Epoch 54/200: 3it [00:00, 11.10it/s]\n"
     ]
    },
    {
     "name": "stdout",
     "output_type": "stream",
     "text": [
      "Epoch 54/200: Total Loss = 14.6732 | Data Loss = 14.6732 | PDE Loss = 0.0000\n"
     ]
    },
    {
     "name": "stderr",
     "output_type": "stream",
     "text": [
      "Epoch 55/200: 3it [00:00, 11.10it/s]\n"
     ]
    },
    {
     "name": "stdout",
     "output_type": "stream",
     "text": [
      "Epoch 55/200: Total Loss = 14.2205 | Data Loss = 14.2205 | PDE Loss = 0.0000\n"
     ]
    },
    {
     "name": "stderr",
     "output_type": "stream",
     "text": [
      "Epoch 56/200: 3it [00:00, 11.13it/s]\n"
     ]
    },
    {
     "name": "stdout",
     "output_type": "stream",
     "text": [
      "Epoch 56/200: Total Loss = 13.7269 | Data Loss = 13.7269 | PDE Loss = 0.0000\n"
     ]
    },
    {
     "name": "stderr",
     "output_type": "stream",
     "text": [
      "Epoch 57/200: 3it [00:00, 10.84it/s]\n"
     ]
    },
    {
     "name": "stdout",
     "output_type": "stream",
     "text": [
      "Epoch 57/200: Total Loss = 13.0999 | Data Loss = 13.0999 | PDE Loss = 0.0000\n"
     ]
    },
    {
     "name": "stderr",
     "output_type": "stream",
     "text": [
      "Epoch 58/200: 3it [00:00, 11.08it/s]\n"
     ]
    },
    {
     "name": "stdout",
     "output_type": "stream",
     "text": [
      "Epoch 58/200: Total Loss = 12.3750 | Data Loss = 12.3750 | PDE Loss = 0.0000\n"
     ]
    },
    {
     "name": "stderr",
     "output_type": "stream",
     "text": [
      "Epoch 59/200: 3it [00:00, 11.13it/s]\n"
     ]
    },
    {
     "name": "stdout",
     "output_type": "stream",
     "text": [
      "Epoch 59/200: Total Loss = 11.7406 | Data Loss = 11.7406 | PDE Loss = 0.0000\n"
     ]
    },
    {
     "name": "stderr",
     "output_type": "stream",
     "text": [
      "Epoch 60/200: 3it [00:00, 11.08it/s]\n"
     ]
    },
    {
     "name": "stdout",
     "output_type": "stream",
     "text": [
      "Epoch 60/200: Total Loss = 10.8960 | Data Loss = 10.8960 | PDE Loss = 0.0000\n"
     ]
    },
    {
     "name": "stderr",
     "output_type": "stream",
     "text": [
      "Epoch 61/200: 3it [00:00, 10.93it/s]\n"
     ]
    },
    {
     "name": "stdout",
     "output_type": "stream",
     "text": [
      "Epoch 61/200: Total Loss = 10.0191 | Data Loss = 10.0191 | PDE Loss = 0.0000\n"
     ]
    },
    {
     "name": "stderr",
     "output_type": "stream",
     "text": [
      "Epoch 62/200: 3it [00:00, 11.14it/s]\n"
     ]
    },
    {
     "name": "stdout",
     "output_type": "stream",
     "text": [
      "Epoch 62/200: Total Loss = 8.8242 | Data Loss = 8.8242 | PDE Loss = 0.0000\n"
     ]
    },
    {
     "name": "stderr",
     "output_type": "stream",
     "text": [
      "Epoch 63/200: 3it [00:00, 11.08it/s]\n"
     ]
    },
    {
     "name": "stdout",
     "output_type": "stream",
     "text": [
      "Epoch 63/200: Total Loss = 7.6326 | Data Loss = 7.6326 | PDE Loss = 0.0000\n"
     ]
    },
    {
     "name": "stderr",
     "output_type": "stream",
     "text": [
      "Epoch 64/200: 3it [00:00, 11.01it/s]\n"
     ]
    },
    {
     "name": "stdout",
     "output_type": "stream",
     "text": [
      "Epoch 64/200: Total Loss = 9.4247 | Data Loss = 9.4247 | PDE Loss = 0.0000\n"
     ]
    },
    {
     "name": "stderr",
     "output_type": "stream",
     "text": [
      "Epoch 65/200: 3it [00:00, 11.10it/s]\n"
     ]
    },
    {
     "name": "stdout",
     "output_type": "stream",
     "text": [
      "Epoch 65/200: Total Loss = 8.5809 | Data Loss = 8.5809 | PDE Loss = 0.0000\n"
     ]
    },
    {
     "name": "stderr",
     "output_type": "stream",
     "text": [
      "Epoch 66/200: 3it [00:00, 10.91it/s]\n"
     ]
    },
    {
     "name": "stdout",
     "output_type": "stream",
     "text": [
      "Epoch 66/200: Total Loss = 8.1652 | Data Loss = 8.1652 | PDE Loss = 0.0000\n"
     ]
    },
    {
     "name": "stderr",
     "output_type": "stream",
     "text": [
      "Epoch 67/200: 3it [00:00, 11.08it/s]\n"
     ]
    },
    {
     "name": "stdout",
     "output_type": "stream",
     "text": [
      "Epoch 67/200: Total Loss = 5.8737 | Data Loss = 5.8737 | PDE Loss = 0.0000\n"
     ]
    },
    {
     "name": "stderr",
     "output_type": "stream",
     "text": [
      "Epoch 68/200: 3it [00:00, 11.09it/s]\n"
     ]
    },
    {
     "name": "stdout",
     "output_type": "stream",
     "text": [
      "Epoch 68/200: Total Loss = 4.9575 | Data Loss = 4.9575 | PDE Loss = 0.0000\n"
     ]
    },
    {
     "name": "stderr",
     "output_type": "stream",
     "text": [
      "Epoch 69/200: 3it [00:00, 11.09it/s]\n"
     ]
    },
    {
     "name": "stdout",
     "output_type": "stream",
     "text": [
      "Epoch 69/200: Total Loss = 4.2533 | Data Loss = 4.2533 | PDE Loss = 0.0000\n"
     ]
    },
    {
     "name": "stderr",
     "output_type": "stream",
     "text": [
      "Epoch 70/200: 3it [00:00, 11.12it/s]\n"
     ]
    },
    {
     "name": "stdout",
     "output_type": "stream",
     "text": [
      "Epoch 70/200: Total Loss = 3.7294 | Data Loss = 3.7294 | PDE Loss = 0.0000\n"
     ]
    },
    {
     "name": "stderr",
     "output_type": "stream",
     "text": [
      "Epoch 71/200: 3it [00:00, 11.10it/s]\n"
     ]
    },
    {
     "name": "stdout",
     "output_type": "stream",
     "text": [
      "Epoch 71/200: Total Loss = 2.8213 | Data Loss = 2.8213 | PDE Loss = 0.0000\n"
     ]
    },
    {
     "name": "stderr",
     "output_type": "stream",
     "text": [
      "Epoch 72/200: 3it [00:00, 11.03it/s]\n"
     ]
    },
    {
     "name": "stdout",
     "output_type": "stream",
     "text": [
      "Epoch 72/200: Total Loss = 2.4147 | Data Loss = 2.4147 | PDE Loss = 0.0000\n"
     ]
    },
    {
     "name": "stderr",
     "output_type": "stream",
     "text": [
      "Epoch 73/200: 3it [00:00, 11.09it/s]\n"
     ]
    },
    {
     "name": "stdout",
     "output_type": "stream",
     "text": [
      "Epoch 73/200: Total Loss = 2.0630 | Data Loss = 2.0630 | PDE Loss = 0.0000\n"
     ]
    },
    {
     "name": "stderr",
     "output_type": "stream",
     "text": [
      "Epoch 74/200: 3it [00:00, 11.07it/s]\n"
     ]
    },
    {
     "name": "stdout",
     "output_type": "stream",
     "text": [
      "Epoch 74/200: Total Loss = 1.5376 | Data Loss = 1.5376 | PDE Loss = 0.0000\n"
     ]
    },
    {
     "name": "stderr",
     "output_type": "stream",
     "text": [
      "Epoch 75/200: 3it [00:00, 11.06it/s]\n"
     ]
    },
    {
     "name": "stdout",
     "output_type": "stream",
     "text": [
      "Epoch 75/200: Total Loss = 1.3336 | Data Loss = 1.3336 | PDE Loss = 0.0000\n"
     ]
    },
    {
     "name": "stderr",
     "output_type": "stream",
     "text": [
      "Epoch 76/200: 3it [00:00, 11.11it/s]\n"
     ]
    },
    {
     "name": "stdout",
     "output_type": "stream",
     "text": [
      "Epoch 76/200: Total Loss = 1.0190 | Data Loss = 1.0190 | PDE Loss = 0.0000\n"
     ]
    },
    {
     "name": "stderr",
     "output_type": "stream",
     "text": [
      "Epoch 77/200: 3it [00:00, 11.09it/s]\n"
     ]
    },
    {
     "name": "stdout",
     "output_type": "stream",
     "text": [
      "Epoch 77/200: Total Loss = 0.7827 | Data Loss = 0.7827 | PDE Loss = 0.0000\n"
     ]
    },
    {
     "name": "stderr",
     "output_type": "stream",
     "text": [
      "Epoch 78/200: 3it [00:00, 11.05it/s]\n"
     ]
    },
    {
     "name": "stdout",
     "output_type": "stream",
     "text": [
      "Epoch 78/200: Total Loss = 0.6786 | Data Loss = 0.6786 | PDE Loss = 0.0000\n"
     ]
    },
    {
     "name": "stderr",
     "output_type": "stream",
     "text": [
      "Epoch 79/200: 3it [00:00, 10.94it/s]\n"
     ]
    },
    {
     "name": "stdout",
     "output_type": "stream",
     "text": [
      "Epoch 79/200: Total Loss = 0.6373 | Data Loss = 0.6373 | PDE Loss = 0.0000\n"
     ]
    },
    {
     "name": "stderr",
     "output_type": "stream",
     "text": [
      "Epoch 80/200: 3it [00:00, 11.00it/s]\n"
     ]
    },
    {
     "name": "stdout",
     "output_type": "stream",
     "text": [
      "Epoch 80/200: Total Loss = 0.7294 | Data Loss = 0.7294 | PDE Loss = 0.0000\n"
     ]
    },
    {
     "name": "stderr",
     "output_type": "stream",
     "text": [
      "Epoch 81/200: 3it [00:00, 10.93it/s]\n"
     ]
    },
    {
     "name": "stdout",
     "output_type": "stream",
     "text": [
      "Epoch 81/200: Total Loss = 0.6200 | Data Loss = 0.6200 | PDE Loss = 0.0000\n"
     ]
    },
    {
     "name": "stderr",
     "output_type": "stream",
     "text": [
      "Epoch 82/200: 3it [00:00, 10.88it/s]\n"
     ]
    },
    {
     "name": "stdout",
     "output_type": "stream",
     "text": [
      "Epoch 82/200: Total Loss = 0.5255 | Data Loss = 0.5255 | PDE Loss = 0.0000\n"
     ]
    },
    {
     "name": "stderr",
     "output_type": "stream",
     "text": [
      "Epoch 83/200: 3it [00:00, 11.09it/s]\n"
     ]
    },
    {
     "name": "stdout",
     "output_type": "stream",
     "text": [
      "Epoch 83/200: Total Loss = 0.4382 | Data Loss = 0.4382 | PDE Loss = 0.0000\n"
     ]
    },
    {
     "name": "stderr",
     "output_type": "stream",
     "text": [
      "Epoch 84/200: 3it [00:00, 10.97it/s]\n"
     ]
    },
    {
     "name": "stdout",
     "output_type": "stream",
     "text": [
      "Epoch 84/200: Total Loss = 0.5222 | Data Loss = 0.5222 | PDE Loss = 0.0000\n"
     ]
    },
    {
     "name": "stderr",
     "output_type": "stream",
     "text": [
      "Epoch 85/200: 3it [00:00, 11.07it/s]\n"
     ]
    },
    {
     "name": "stdout",
     "output_type": "stream",
     "text": [
      "Epoch 85/200: Total Loss = 0.4489 | Data Loss = 0.4489 | PDE Loss = 0.0000\n"
     ]
    },
    {
     "name": "stderr",
     "output_type": "stream",
     "text": [
      "Epoch 86/200: 3it [00:00, 11.01it/s]\n"
     ]
    },
    {
     "name": "stdout",
     "output_type": "stream",
     "text": [
      "Epoch 86/200: Total Loss = 0.2465 | Data Loss = 0.2465 | PDE Loss = 0.0000\n"
     ]
    },
    {
     "name": "stderr",
     "output_type": "stream",
     "text": [
      "Epoch 87/200: 3it [00:00, 11.08it/s]\n"
     ]
    },
    {
     "name": "stdout",
     "output_type": "stream",
     "text": [
      "Epoch 87/200: Total Loss = 0.2092 | Data Loss = 0.2092 | PDE Loss = 0.0000\n"
     ]
    },
    {
     "name": "stderr",
     "output_type": "stream",
     "text": [
      "Epoch 88/200: 3it [00:00, 11.10it/s]\n"
     ]
    },
    {
     "name": "stdout",
     "output_type": "stream",
     "text": [
      "Epoch 88/200: Total Loss = 0.2240 | Data Loss = 0.2240 | PDE Loss = 0.0000\n"
     ]
    },
    {
     "name": "stderr",
     "output_type": "stream",
     "text": [
      "Epoch 89/200: 3it [00:00, 11.09it/s]\n"
     ]
    },
    {
     "name": "stdout",
     "output_type": "stream",
     "text": [
      "Epoch 89/200: Total Loss = 0.1960 | Data Loss = 0.1960 | PDE Loss = 0.0000\n"
     ]
    },
    {
     "name": "stderr",
     "output_type": "stream",
     "text": [
      "Epoch 90/200: 3it [00:00, 11.10it/s]\n"
     ]
    },
    {
     "name": "stdout",
     "output_type": "stream",
     "text": [
      "Epoch 90/200: Total Loss = 0.1337 | Data Loss = 0.1337 | PDE Loss = 0.0000\n"
     ]
    },
    {
     "name": "stderr",
     "output_type": "stream",
     "text": [
      "Epoch 91/200: 3it [00:00, 11.04it/s]\n"
     ]
    },
    {
     "name": "stdout",
     "output_type": "stream",
     "text": [
      "Epoch 91/200: Total Loss = 0.1332 | Data Loss = 0.1332 | PDE Loss = 0.0000\n"
     ]
    },
    {
     "name": "stderr",
     "output_type": "stream",
     "text": [
      "Epoch 92/200: 3it [00:00, 11.08it/s]\n"
     ]
    },
    {
     "name": "stdout",
     "output_type": "stream",
     "text": [
      "Epoch 92/200: Total Loss = 0.1316 | Data Loss = 0.1316 | PDE Loss = 0.0000\n"
     ]
    },
    {
     "name": "stderr",
     "output_type": "stream",
     "text": [
      "Epoch 93/200: 3it [00:00, 11.02it/s]\n"
     ]
    },
    {
     "name": "stdout",
     "output_type": "stream",
     "text": [
      "Epoch 93/200: Total Loss = 0.1057 | Data Loss = 0.1057 | PDE Loss = 0.0000\n"
     ]
    },
    {
     "name": "stderr",
     "output_type": "stream",
     "text": [
      "Epoch 94/200: 3it [00:00, 11.11it/s]\n"
     ]
    },
    {
     "name": "stdout",
     "output_type": "stream",
     "text": [
      "Epoch 94/200: Total Loss = 0.0943 | Data Loss = 0.0943 | PDE Loss = 0.0000\n"
     ]
    },
    {
     "name": "stderr",
     "output_type": "stream",
     "text": [
      "Epoch 95/200: 3it [00:00, 11.10it/s]\n"
     ]
    },
    {
     "name": "stdout",
     "output_type": "stream",
     "text": [
      "Epoch 95/200: Total Loss = 0.0910 | Data Loss = 0.0910 | PDE Loss = 0.0000\n"
     ]
    },
    {
     "name": "stderr",
     "output_type": "stream",
     "text": [
      "Epoch 96/200: 3it [00:00, 10.83it/s]\n"
     ]
    },
    {
     "name": "stdout",
     "output_type": "stream",
     "text": [
      "Epoch 96/200: Total Loss = 0.0822 | Data Loss = 0.0822 | PDE Loss = 0.0000\n"
     ]
    },
    {
     "name": "stderr",
     "output_type": "stream",
     "text": [
      "Epoch 97/200: 3it [00:00, 11.02it/s]\n"
     ]
    },
    {
     "name": "stdout",
     "output_type": "stream",
     "text": [
      "Epoch 97/200: Total Loss = 0.0774 | Data Loss = 0.0774 | PDE Loss = 0.0000\n"
     ]
    },
    {
     "name": "stderr",
     "output_type": "stream",
     "text": [
      "Epoch 98/200: 3it [00:00, 11.00it/s]\n"
     ]
    },
    {
     "name": "stdout",
     "output_type": "stream",
     "text": [
      "Epoch 98/200: Total Loss = 0.0726 | Data Loss = 0.0726 | PDE Loss = 0.0000\n"
     ]
    },
    {
     "name": "stderr",
     "output_type": "stream",
     "text": [
      "Epoch 99/200: 3it [00:00, 10.69it/s]\n"
     ]
    },
    {
     "name": "stdout",
     "output_type": "stream",
     "text": [
      "Epoch 99/200: Total Loss = 0.0665 | Data Loss = 0.0665 | PDE Loss = 0.0000\n"
     ]
    },
    {
     "name": "stderr",
     "output_type": "stream",
     "text": [
      "Epoch 100/200: 3it [00:00, 10.81it/s]\n"
     ]
    },
    {
     "name": "stdout",
     "output_type": "stream",
     "text": [
      "Epoch 100/200: Total Loss = 0.0630 | Data Loss = 0.0630 | PDE Loss = 0.0000\n"
     ]
    },
    {
     "name": "stderr",
     "output_type": "stream",
     "text": [
      "Epoch 101/200: 3it [00:00, 10.72it/s]\n"
     ]
    },
    {
     "name": "stdout",
     "output_type": "stream",
     "text": [
      "Epoch 101/200: Total Loss = 0.0618 | Data Loss = 0.0618 | PDE Loss = 0.0000\n"
     ]
    },
    {
     "name": "stderr",
     "output_type": "stream",
     "text": [
      "Epoch 102/200: 3it [00:00, 10.84it/s]\n"
     ]
    },
    {
     "name": "stdout",
     "output_type": "stream",
     "text": [
      "Epoch 102/200: Total Loss = 0.0591 | Data Loss = 0.0591 | PDE Loss = 0.0000\n"
     ]
    },
    {
     "name": "stderr",
     "output_type": "stream",
     "text": [
      "Epoch 103/200: 3it [00:00, 10.82it/s]\n"
     ]
    },
    {
     "name": "stdout",
     "output_type": "stream",
     "text": [
      "Epoch 103/200: Total Loss = 0.0581 | Data Loss = 0.0581 | PDE Loss = 0.0000\n"
     ]
    },
    {
     "name": "stderr",
     "output_type": "stream",
     "text": [
      "Epoch 104/200: 3it [00:00, 10.94it/s]\n"
     ]
    },
    {
     "name": "stdout",
     "output_type": "stream",
     "text": [
      "Epoch 104/200: Total Loss = 0.0567 | Data Loss = 0.0567 | PDE Loss = 0.0000\n"
     ]
    },
    {
     "name": "stderr",
     "output_type": "stream",
     "text": [
      "Epoch 105/200: 3it [00:00, 10.73it/s]\n"
     ]
    },
    {
     "name": "stdout",
     "output_type": "stream",
     "text": [
      "Epoch 105/200: Total Loss = 0.0538 | Data Loss = 0.0538 | PDE Loss = 0.0000\n"
     ]
    },
    {
     "name": "stderr",
     "output_type": "stream",
     "text": [
      "Epoch 106/200: 3it [00:00, 10.54it/s]\n"
     ]
    },
    {
     "name": "stdout",
     "output_type": "stream",
     "text": [
      "Epoch 106/200: Total Loss = 0.0511 | Data Loss = 0.0511 | PDE Loss = 0.0000\n"
     ]
    },
    {
     "name": "stderr",
     "output_type": "stream",
     "text": [
      "Epoch 107/200: 3it [00:00, 10.83it/s]\n"
     ]
    },
    {
     "name": "stdout",
     "output_type": "stream",
     "text": [
      "Epoch 107/200: Total Loss = 0.0498 | Data Loss = 0.0498 | PDE Loss = 0.0000\n"
     ]
    },
    {
     "name": "stderr",
     "output_type": "stream",
     "text": [
      "Epoch 108/200: 3it [00:00, 10.89it/s]\n"
     ]
    },
    {
     "name": "stdout",
     "output_type": "stream",
     "text": [
      "Epoch 108/200: Total Loss = 0.0483 | Data Loss = 0.0483 | PDE Loss = 0.0000\n"
     ]
    },
    {
     "name": "stderr",
     "output_type": "stream",
     "text": [
      "Epoch 109/200: 3it [00:00, 10.97it/s]\n"
     ]
    },
    {
     "name": "stdout",
     "output_type": "stream",
     "text": [
      "Epoch 109/200: Total Loss = 0.0463 | Data Loss = 0.0463 | PDE Loss = 0.0000\n"
     ]
    },
    {
     "name": "stderr",
     "output_type": "stream",
     "text": [
      "Epoch 110/200: 3it [00:00, 10.60it/s]\n"
     ]
    },
    {
     "name": "stdout",
     "output_type": "stream",
     "text": [
      "Epoch 110/200: Total Loss = 0.0453 | Data Loss = 0.0453 | PDE Loss = 0.0000\n"
     ]
    },
    {
     "name": "stderr",
     "output_type": "stream",
     "text": [
      "Epoch 111/200: 3it [00:00, 10.72it/s]\n"
     ]
    },
    {
     "name": "stdout",
     "output_type": "stream",
     "text": [
      "Epoch 111/200: Total Loss = 0.0440 | Data Loss = 0.0440 | PDE Loss = 0.0000\n"
     ]
    },
    {
     "name": "stderr",
     "output_type": "stream",
     "text": [
      "Epoch 112/200: 3it [00:00, 10.78it/s]\n"
     ]
    },
    {
     "name": "stdout",
     "output_type": "stream",
     "text": [
      "Epoch 112/200: Total Loss = 0.0433 | Data Loss = 0.0433 | PDE Loss = 0.0000\n"
     ]
    },
    {
     "name": "stderr",
     "output_type": "stream",
     "text": [
      "Epoch 113/200: 3it [00:00, 10.87it/s]\n"
     ]
    },
    {
     "name": "stdout",
     "output_type": "stream",
     "text": [
      "Epoch 113/200: Total Loss = 0.0434 | Data Loss = 0.0434 | PDE Loss = 0.0000\n"
     ]
    },
    {
     "name": "stderr",
     "output_type": "stream",
     "text": [
      "Epoch 114/200: 3it [00:00, 10.88it/s]\n"
     ]
    },
    {
     "name": "stdout",
     "output_type": "stream",
     "text": [
      "Epoch 114/200: Total Loss = 0.0439 | Data Loss = 0.0439 | PDE Loss = 0.0000\n"
     ]
    },
    {
     "name": "stderr",
     "output_type": "stream",
     "text": [
      "Epoch 115/200: 3it [00:00, 10.89it/s]\n"
     ]
    },
    {
     "name": "stdout",
     "output_type": "stream",
     "text": [
      "Epoch 115/200: Total Loss = 0.0475 | Data Loss = 0.0475 | PDE Loss = 0.0000\n"
     ]
    },
    {
     "name": "stderr",
     "output_type": "stream",
     "text": [
      "Epoch 116/200: 3it [00:00, 10.67it/s]\n"
     ]
    },
    {
     "name": "stdout",
     "output_type": "stream",
     "text": [
      "Epoch 116/200: Total Loss = 0.0545 | Data Loss = 0.0545 | PDE Loss = 0.0000\n"
     ]
    },
    {
     "name": "stderr",
     "output_type": "stream",
     "text": [
      "Epoch 117/200: 3it [00:00, 10.65it/s]\n"
     ]
    },
    {
     "name": "stdout",
     "output_type": "stream",
     "text": [
      "Epoch 117/200: Total Loss = 0.0702 | Data Loss = 0.0702 | PDE Loss = 0.0000\n"
     ]
    },
    {
     "name": "stderr",
     "output_type": "stream",
     "text": [
      "Epoch 118/200: 3it [00:00, 10.99it/s]\n"
     ]
    },
    {
     "name": "stdout",
     "output_type": "stream",
     "text": [
      "Epoch 118/200: Total Loss = 0.0845 | Data Loss = 0.0845 | PDE Loss = 0.0000\n"
     ]
    },
    {
     "name": "stderr",
     "output_type": "stream",
     "text": [
      "Epoch 119/200: 3it [00:00, 10.54it/s]\n"
     ]
    },
    {
     "name": "stdout",
     "output_type": "stream",
     "text": [
      "Epoch 119/200: Total Loss = 0.0941 | Data Loss = 0.0941 | PDE Loss = 0.0000\n"
     ]
    },
    {
     "name": "stderr",
     "output_type": "stream",
     "text": [
      "Epoch 120/200: 3it [00:00, 10.98it/s]\n"
     ]
    },
    {
     "name": "stdout",
     "output_type": "stream",
     "text": [
      "Epoch 120/200: Total Loss = 0.0878 | Data Loss = 0.0878 | PDE Loss = 0.0000\n"
     ]
    },
    {
     "name": "stderr",
     "output_type": "stream",
     "text": [
      "Epoch 121/200: 3it [00:00, 11.00it/s]\n"
     ]
    },
    {
     "name": "stdout",
     "output_type": "stream",
     "text": [
      "Epoch 121/200: Total Loss = 0.0805 | Data Loss = 0.0805 | PDE Loss = 0.0000\n"
     ]
    },
    {
     "name": "stderr",
     "output_type": "stream",
     "text": [
      "Epoch 122/200: 3it [00:00, 10.81it/s]\n"
     ]
    },
    {
     "name": "stdout",
     "output_type": "stream",
     "text": [
      "Epoch 122/200: Total Loss = 0.1106 | Data Loss = 0.1106 | PDE Loss = 0.0000\n"
     ]
    },
    {
     "name": "stderr",
     "output_type": "stream",
     "text": [
      "Epoch 123/200: 3it [00:00, 10.90it/s]\n"
     ]
    },
    {
     "name": "stdout",
     "output_type": "stream",
     "text": [
      "Epoch 123/200: Total Loss = 0.1797 | Data Loss = 0.1797 | PDE Loss = 0.0000\n"
     ]
    },
    {
     "name": "stderr",
     "output_type": "stream",
     "text": [
      "Epoch 124/200: 3it [00:00, 10.94it/s]\n"
     ]
    },
    {
     "name": "stdout",
     "output_type": "stream",
     "text": [
      "Epoch 124/200: Total Loss = 0.2366 | Data Loss = 0.2366 | PDE Loss = 0.0000\n"
     ]
    },
    {
     "name": "stderr",
     "output_type": "stream",
     "text": [
      "Epoch 125/200: 3it [00:00, 10.91it/s]\n"
     ]
    },
    {
     "name": "stdout",
     "output_type": "stream",
     "text": [
      "Epoch 125/200: Total Loss = 0.1342 | Data Loss = 0.1342 | PDE Loss = 0.0000\n"
     ]
    },
    {
     "name": "stderr",
     "output_type": "stream",
     "text": [
      "Epoch 126/200: 3it [00:00, 10.94it/s]\n"
     ]
    },
    {
     "name": "stdout",
     "output_type": "stream",
     "text": [
      "Epoch 126/200: Total Loss = 0.1053 | Data Loss = 0.1053 | PDE Loss = 0.0000\n"
     ]
    },
    {
     "name": "stderr",
     "output_type": "stream",
     "text": [
      "Epoch 127/200: 3it [00:00, 10.63it/s]\n"
     ]
    },
    {
     "name": "stdout",
     "output_type": "stream",
     "text": [
      "Epoch 127/200: Total Loss = 0.1126 | Data Loss = 0.1126 | PDE Loss = 0.0000\n"
     ]
    },
    {
     "name": "stderr",
     "output_type": "stream",
     "text": [
      "Epoch 128/200: 3it [00:00, 10.82it/s]\n"
     ]
    },
    {
     "name": "stdout",
     "output_type": "stream",
     "text": [
      "Epoch 128/200: Total Loss = 0.0723 | Data Loss = 0.0723 | PDE Loss = 0.0000\n"
     ]
    },
    {
     "name": "stderr",
     "output_type": "stream",
     "text": [
      "Epoch 129/200: 3it [00:00, 11.00it/s]\n"
     ]
    },
    {
     "name": "stdout",
     "output_type": "stream",
     "text": [
      "Epoch 129/200: Total Loss = 0.0613 | Data Loss = 0.0613 | PDE Loss = 0.0000\n"
     ]
    },
    {
     "name": "stderr",
     "output_type": "stream",
     "text": [
      "Epoch 130/200: 3it [00:00, 10.85it/s]\n"
     ]
    },
    {
     "name": "stdout",
     "output_type": "stream",
     "text": [
      "Epoch 130/200: Total Loss = 0.0617 | Data Loss = 0.0617 | PDE Loss = 0.0000\n"
     ]
    },
    {
     "name": "stderr",
     "output_type": "stream",
     "text": [
      "Epoch 131/200: 3it [00:00, 10.76it/s]\n"
     ]
    },
    {
     "name": "stdout",
     "output_type": "stream",
     "text": [
      "Epoch 131/200: Total Loss = 0.0442 | Data Loss = 0.0442 | PDE Loss = 0.0000\n"
     ]
    },
    {
     "name": "stderr",
     "output_type": "stream",
     "text": [
      "Epoch 132/200: 3it [00:00, 10.54it/s]\n"
     ]
    },
    {
     "name": "stdout",
     "output_type": "stream",
     "text": [
      "Epoch 132/200: Total Loss = 0.0417 | Data Loss = 0.0417 | PDE Loss = 0.0000\n"
     ]
    },
    {
     "name": "stderr",
     "output_type": "stream",
     "text": [
      "Epoch 133/200: 3it [00:00, 10.84it/s]\n"
     ]
    },
    {
     "name": "stdout",
     "output_type": "stream",
     "text": [
      "Epoch 133/200: Total Loss = 0.0416 | Data Loss = 0.0416 | PDE Loss = 0.0000\n"
     ]
    },
    {
     "name": "stderr",
     "output_type": "stream",
     "text": [
      "Epoch 134/200: 3it [00:00, 10.68it/s]\n"
     ]
    },
    {
     "name": "stdout",
     "output_type": "stream",
     "text": [
      "Epoch 134/200: Total Loss = 0.0360 | Data Loss = 0.0360 | PDE Loss = 0.0000\n"
     ]
    },
    {
     "name": "stderr",
     "output_type": "stream",
     "text": [
      "Epoch 135/200: 3it [00:00, 10.65it/s]\n"
     ]
    },
    {
     "name": "stdout",
     "output_type": "stream",
     "text": [
      "Epoch 135/200: Total Loss = 0.0322 | Data Loss = 0.0322 | PDE Loss = 0.0000\n"
     ]
    },
    {
     "name": "stderr",
     "output_type": "stream",
     "text": [
      "Epoch 136/200: 3it [00:00, 10.58it/s]\n"
     ]
    },
    {
     "name": "stdout",
     "output_type": "stream",
     "text": [
      "Epoch 136/200: Total Loss = 0.0311 | Data Loss = 0.0311 | PDE Loss = 0.0000\n"
     ]
    },
    {
     "name": "stderr",
     "output_type": "stream",
     "text": [
      "Epoch 137/200: 3it [00:00, 10.75it/s]\n"
     ]
    },
    {
     "name": "stdout",
     "output_type": "stream",
     "text": [
      "Epoch 137/200: Total Loss = 0.0315 | Data Loss = 0.0315 | PDE Loss = 0.0000\n"
     ]
    },
    {
     "name": "stderr",
     "output_type": "stream",
     "text": [
      "Epoch 138/200: 3it [00:00, 10.78it/s]\n"
     ]
    },
    {
     "name": "stdout",
     "output_type": "stream",
     "text": [
      "Epoch 138/200: Total Loss = 0.0281 | Data Loss = 0.0281 | PDE Loss = 0.0000\n"
     ]
    },
    {
     "name": "stderr",
     "output_type": "stream",
     "text": [
      "Epoch 139/200: 3it [00:00, 10.98it/s]\n"
     ]
    },
    {
     "name": "stdout",
     "output_type": "stream",
     "text": [
      "Epoch 139/200: Total Loss = 0.0263 | Data Loss = 0.0263 | PDE Loss = 0.0000\n"
     ]
    },
    {
     "name": "stderr",
     "output_type": "stream",
     "text": [
      "Epoch 140/200: 3it [00:00, 10.59it/s]\n"
     ]
    },
    {
     "name": "stdout",
     "output_type": "stream",
     "text": [
      "Epoch 140/200: Total Loss = 0.0267 | Data Loss = 0.0267 | PDE Loss = 0.0000\n"
     ]
    },
    {
     "name": "stderr",
     "output_type": "stream",
     "text": [
      "Epoch 141/200: 3it [00:00, 10.86it/s]\n"
     ]
    },
    {
     "name": "stdout",
     "output_type": "stream",
     "text": [
      "Epoch 141/200: Total Loss = 0.0253 | Data Loss = 0.0253 | PDE Loss = 0.0000\n"
     ]
    },
    {
     "name": "stderr",
     "output_type": "stream",
     "text": [
      "Epoch 142/200: 3it [00:00, 10.79it/s]\n"
     ]
    },
    {
     "name": "stdout",
     "output_type": "stream",
     "text": [
      "Epoch 142/200: Total Loss = 0.0241 | Data Loss = 0.0241 | PDE Loss = 0.0000\n"
     ]
    },
    {
     "name": "stderr",
     "output_type": "stream",
     "text": [
      "Epoch 143/200: 3it [00:00, 10.66it/s]\n"
     ]
    },
    {
     "name": "stdout",
     "output_type": "stream",
     "text": [
      "Epoch 143/200: Total Loss = 0.0239 | Data Loss = 0.0239 | PDE Loss = 0.0000\n"
     ]
    },
    {
     "name": "stderr",
     "output_type": "stream",
     "text": [
      "Epoch 144/200: 3it [00:00, 10.73it/s]\n"
     ]
    },
    {
     "name": "stdout",
     "output_type": "stream",
     "text": [
      "Epoch 144/200: Total Loss = 0.0232 | Data Loss = 0.0232 | PDE Loss = 0.0000\n"
     ]
    },
    {
     "name": "stderr",
     "output_type": "stream",
     "text": [
      "Epoch 145/200: 3it [00:00, 10.79it/s]\n"
     ]
    },
    {
     "name": "stdout",
     "output_type": "stream",
     "text": [
      "Epoch 145/200: Total Loss = 0.0226 | Data Loss = 0.0226 | PDE Loss = 0.0000\n"
     ]
    },
    {
     "name": "stderr",
     "output_type": "stream",
     "text": [
      "Epoch 146/200: 3it [00:00, 10.71it/s]\n"
     ]
    },
    {
     "name": "stdout",
     "output_type": "stream",
     "text": [
      "Epoch 146/200: Total Loss = 0.0223 | Data Loss = 0.0223 | PDE Loss = 0.0000\n"
     ]
    },
    {
     "name": "stderr",
     "output_type": "stream",
     "text": [
      "Epoch 147/200: 3it [00:00, 10.60it/s]\n"
     ]
    },
    {
     "name": "stdout",
     "output_type": "stream",
     "text": [
      "Epoch 147/200: Total Loss = 0.0217 | Data Loss = 0.0217 | PDE Loss = 0.0000\n"
     ]
    },
    {
     "name": "stderr",
     "output_type": "stream",
     "text": [
      "Epoch 148/200: 3it [00:00, 10.98it/s]\n"
     ]
    },
    {
     "name": "stdout",
     "output_type": "stream",
     "text": [
      "Epoch 148/200: Total Loss = 0.0213 | Data Loss = 0.0213 | PDE Loss = 0.0000\n"
     ]
    },
    {
     "name": "stderr",
     "output_type": "stream",
     "text": [
      "Epoch 149/200: 3it [00:00, 10.56it/s]\n"
     ]
    },
    {
     "name": "stdout",
     "output_type": "stream",
     "text": [
      "Epoch 149/200: Total Loss = 0.0210 | Data Loss = 0.0210 | PDE Loss = 0.0000\n"
     ]
    },
    {
     "name": "stderr",
     "output_type": "stream",
     "text": [
      "Epoch 150/200: 3it [00:00, 10.83it/s]\n"
     ]
    },
    {
     "name": "stdout",
     "output_type": "stream",
     "text": [
      "Epoch 150/200: Total Loss = 0.0206 | Data Loss = 0.0206 | PDE Loss = 0.0000\n"
     ]
    },
    {
     "name": "stderr",
     "output_type": "stream",
     "text": [
      "Epoch 151/200: 3it [00:00, 10.66it/s]\n"
     ]
    },
    {
     "name": "stdout",
     "output_type": "stream",
     "text": [
      "Epoch 151/200: Total Loss = 0.0202 | Data Loss = 0.0202 | PDE Loss = 0.0000\n"
     ]
    },
    {
     "name": "stderr",
     "output_type": "stream",
     "text": [
      "Epoch 152/200: 3it [00:00, 10.74it/s]\n"
     ]
    },
    {
     "name": "stdout",
     "output_type": "stream",
     "text": [
      "Epoch 152/200: Total Loss = 0.0200 | Data Loss = 0.0200 | PDE Loss = 0.0000\n"
     ]
    },
    {
     "name": "stderr",
     "output_type": "stream",
     "text": [
      "Epoch 153/200: 3it [00:00, 10.76it/s]\n"
     ]
    },
    {
     "name": "stdout",
     "output_type": "stream",
     "text": [
      "Epoch 153/200: Total Loss = 0.0197 | Data Loss = 0.0197 | PDE Loss = 0.0000\n"
     ]
    },
    {
     "name": "stderr",
     "output_type": "stream",
     "text": [
      "Epoch 154/200: 3it [00:00, 10.49it/s]\n"
     ]
    },
    {
     "name": "stdout",
     "output_type": "stream",
     "text": [
      "Epoch 154/200: Total Loss = 0.0196 | Data Loss = 0.0196 | PDE Loss = 0.0000\n"
     ]
    },
    {
     "name": "stderr",
     "output_type": "stream",
     "text": [
      "Epoch 155/200: 3it [00:00, 10.78it/s]\n"
     ]
    },
    {
     "name": "stdout",
     "output_type": "stream",
     "text": [
      "Epoch 155/200: Total Loss = 0.0195 | Data Loss = 0.0195 | PDE Loss = 0.0000\n"
     ]
    },
    {
     "name": "stderr",
     "output_type": "stream",
     "text": [
      "Epoch 156/200: 3it [00:00, 10.70it/s]\n"
     ]
    },
    {
     "name": "stdout",
     "output_type": "stream",
     "text": [
      "Epoch 156/200: Total Loss = 0.0196 | Data Loss = 0.0196 | PDE Loss = 0.0000\n"
     ]
    },
    {
     "name": "stderr",
     "output_type": "stream",
     "text": [
      "Epoch 157/200: 3it [00:00, 10.77it/s]\n"
     ]
    },
    {
     "name": "stdout",
     "output_type": "stream",
     "text": [
      "Epoch 157/200: Total Loss = 0.0200 | Data Loss = 0.0200 | PDE Loss = 0.0000\n"
     ]
    },
    {
     "name": "stderr",
     "output_type": "stream",
     "text": [
      "Epoch 158/200: 3it [00:00, 10.58it/s]\n"
     ]
    },
    {
     "name": "stdout",
     "output_type": "stream",
     "text": [
      "Epoch 158/200: Total Loss = 0.0210 | Data Loss = 0.0210 | PDE Loss = 0.0000\n"
     ]
    },
    {
     "name": "stderr",
     "output_type": "stream",
     "text": [
      "Epoch 159/200: 3it [00:00, 10.74it/s]\n"
     ]
    },
    {
     "name": "stdout",
     "output_type": "stream",
     "text": [
      "Epoch 159/200: Total Loss = 0.0228 | Data Loss = 0.0228 | PDE Loss = 0.0000\n"
     ]
    },
    {
     "name": "stderr",
     "output_type": "stream",
     "text": [
      "Epoch 160/200: 3it [00:00, 10.73it/s]\n"
     ]
    },
    {
     "name": "stdout",
     "output_type": "stream",
     "text": [
      "Epoch 160/200: Total Loss = 0.0263 | Data Loss = 0.0263 | PDE Loss = 0.0000\n"
     ]
    },
    {
     "name": "stderr",
     "output_type": "stream",
     "text": [
      "Epoch 161/200: 3it [00:00, 10.55it/s]\n"
     ]
    },
    {
     "name": "stdout",
     "output_type": "stream",
     "text": [
      "Epoch 161/200: Total Loss = 0.0319 | Data Loss = 0.0319 | PDE Loss = 0.0000\n"
     ]
    },
    {
     "name": "stderr",
     "output_type": "stream",
     "text": [
      "Epoch 162/200: 3it [00:00, 10.68it/s]\n"
     ]
    },
    {
     "name": "stdout",
     "output_type": "stream",
     "text": [
      "Epoch 162/200: Total Loss = 0.0425 | Data Loss = 0.0425 | PDE Loss = 0.0000\n"
     ]
    },
    {
     "name": "stderr",
     "output_type": "stream",
     "text": [
      "Epoch 163/200: 3it [00:00, 10.75it/s]\n"
     ]
    },
    {
     "name": "stdout",
     "output_type": "stream",
     "text": [
      "Epoch 163/200: Total Loss = 0.0580 | Data Loss = 0.0580 | PDE Loss = 0.0000\n"
     ]
    },
    {
     "name": "stderr",
     "output_type": "stream",
     "text": [
      "Epoch 164/200: 3it [00:00, 10.48it/s]\n"
     ]
    },
    {
     "name": "stdout",
     "output_type": "stream",
     "text": [
      "Epoch 164/200: Total Loss = 0.0860 | Data Loss = 0.0860 | PDE Loss = 0.0000\n"
     ]
    },
    {
     "name": "stderr",
     "output_type": "stream",
     "text": [
      "Epoch 165/200: 3it [00:00, 10.82it/s]\n"
     ]
    },
    {
     "name": "stdout",
     "output_type": "stream",
     "text": [
      "Epoch 165/200: Total Loss = 0.1127 | Data Loss = 0.1127 | PDE Loss = 0.0000\n"
     ]
    },
    {
     "name": "stderr",
     "output_type": "stream",
     "text": [
      "Epoch 166/200: 3it [00:00, 10.76it/s]\n"
     ]
    },
    {
     "name": "stdout",
     "output_type": "stream",
     "text": [
      "Epoch 166/200: Total Loss = 0.1477 | Data Loss = 0.1477 | PDE Loss = 0.0000\n"
     ]
    },
    {
     "name": "stderr",
     "output_type": "stream",
     "text": [
      "Epoch 167/200: 3it [00:00, 10.63it/s]\n"
     ]
    },
    {
     "name": "stdout",
     "output_type": "stream",
     "text": [
      "Epoch 167/200: Total Loss = 0.1258 | Data Loss = 0.1258 | PDE Loss = 0.0000\n"
     ]
    },
    {
     "name": "stderr",
     "output_type": "stream",
     "text": [
      "Epoch 168/200: 3it [00:00, 10.67it/s]\n"
     ]
    },
    {
     "name": "stdout",
     "output_type": "stream",
     "text": [
      "Epoch 168/200: Total Loss = 0.1084 | Data Loss = 0.1084 | PDE Loss = 0.0000\n"
     ]
    },
    {
     "name": "stderr",
     "output_type": "stream",
     "text": [
      "Epoch 169/200: 3it [00:00, 10.99it/s]\n"
     ]
    },
    {
     "name": "stdout",
     "output_type": "stream",
     "text": [
      "Epoch 169/200: Total Loss = 0.0714 | Data Loss = 0.0714 | PDE Loss = 0.0000\n"
     ]
    },
    {
     "name": "stderr",
     "output_type": "stream",
     "text": [
      "Epoch 170/200: 3it [00:00, 10.96it/s]\n"
     ]
    },
    {
     "name": "stdout",
     "output_type": "stream",
     "text": [
      "Epoch 170/200: Total Loss = 0.0569 | Data Loss = 0.0569 | PDE Loss = 0.0000\n"
     ]
    },
    {
     "name": "stderr",
     "output_type": "stream",
     "text": [
      "Epoch 171/200: 3it [00:00, 11.00it/s]\n"
     ]
    },
    {
     "name": "stdout",
     "output_type": "stream",
     "text": [
      "Epoch 171/200: Total Loss = 0.0391 | Data Loss = 0.0391 | PDE Loss = 0.0000\n"
     ]
    },
    {
     "name": "stderr",
     "output_type": "stream",
     "text": [
      "Epoch 172/200: 3it [00:00, 10.92it/s]\n"
     ]
    },
    {
     "name": "stdout",
     "output_type": "stream",
     "text": [
      "Epoch 172/200: Total Loss = 0.0435 | Data Loss = 0.0435 | PDE Loss = 0.0000\n"
     ]
    },
    {
     "name": "stderr",
     "output_type": "stream",
     "text": [
      "Epoch 173/200: 3it [00:00, 10.92it/s]\n"
     ]
    },
    {
     "name": "stdout",
     "output_type": "stream",
     "text": [
      "Epoch 173/200: Total Loss = 0.0480 | Data Loss = 0.0480 | PDE Loss = 0.0000\n"
     ]
    },
    {
     "name": "stderr",
     "output_type": "stream",
     "text": [
      "Epoch 174/200: 3it [00:00, 10.96it/s]\n"
     ]
    },
    {
     "name": "stdout",
     "output_type": "stream",
     "text": [
      "Epoch 174/200: Total Loss = 0.0447 | Data Loss = 0.0447 | PDE Loss = 0.0000\n"
     ]
    },
    {
     "name": "stderr",
     "output_type": "stream",
     "text": [
      "Epoch 175/200: 3it [00:00, 10.97it/s]\n"
     ]
    },
    {
     "name": "stdout",
     "output_type": "stream",
     "text": [
      "Epoch 175/200: Total Loss = 0.0332 | Data Loss = 0.0332 | PDE Loss = 0.0000\n"
     ]
    },
    {
     "name": "stderr",
     "output_type": "stream",
     "text": [
      "Epoch 176/200: 3it [00:00, 10.81it/s]\n"
     ]
    },
    {
     "name": "stdout",
     "output_type": "stream",
     "text": [
      "Epoch 176/200: Total Loss = 0.0282 | Data Loss = 0.0282 | PDE Loss = 0.0000\n"
     ]
    },
    {
     "name": "stderr",
     "output_type": "stream",
     "text": [
      "Epoch 177/200: 3it [00:00, 10.73it/s]\n"
     ]
    },
    {
     "name": "stdout",
     "output_type": "stream",
     "text": [
      "Epoch 177/200: Total Loss = 0.0232 | Data Loss = 0.0232 | PDE Loss = 0.0000\n"
     ]
    },
    {
     "name": "stderr",
     "output_type": "stream",
     "text": [
      "Epoch 178/200: 3it [00:00, 10.99it/s]\n"
     ]
    },
    {
     "name": "stdout",
     "output_type": "stream",
     "text": [
      "Epoch 178/200: Total Loss = 0.0188 | Data Loss = 0.0188 | PDE Loss = 0.0000\n"
     ]
    },
    {
     "name": "stderr",
     "output_type": "stream",
     "text": [
      "Epoch 179/200: 3it [00:00, 10.89it/s]\n"
     ]
    },
    {
     "name": "stdout",
     "output_type": "stream",
     "text": [
      "Epoch 179/200: Total Loss = 0.0173 | Data Loss = 0.0173 | PDE Loss = 0.0000\n"
     ]
    },
    {
     "name": "stderr",
     "output_type": "stream",
     "text": [
      "Epoch 180/200: 3it [00:00, 11.01it/s]\n"
     ]
    },
    {
     "name": "stdout",
     "output_type": "stream",
     "text": [
      "Epoch 180/200: Total Loss = 0.0186 | Data Loss = 0.0186 | PDE Loss = 0.0000\n"
     ]
    },
    {
     "name": "stderr",
     "output_type": "stream",
     "text": [
      "Epoch 181/200: 3it [00:00, 10.83it/s]\n"
     ]
    },
    {
     "name": "stdout",
     "output_type": "stream",
     "text": [
      "Epoch 181/200: Total Loss = 0.0190 | Data Loss = 0.0190 | PDE Loss = 0.0000\n"
     ]
    },
    {
     "name": "stderr",
     "output_type": "stream",
     "text": [
      "Epoch 182/200: 3it [00:00, 10.99it/s]\n"
     ]
    },
    {
     "name": "stdout",
     "output_type": "stream",
     "text": [
      "Epoch 182/200: Total Loss = 0.0171 | Data Loss = 0.0171 | PDE Loss = 0.0000\n"
     ]
    },
    {
     "name": "stderr",
     "output_type": "stream",
     "text": [
      "Epoch 183/200: 3it [00:00, 10.91it/s]\n"
     ]
    },
    {
     "name": "stdout",
     "output_type": "stream",
     "text": [
      "Epoch 183/200: Total Loss = 0.0153 | Data Loss = 0.0153 | PDE Loss = 0.0000\n"
     ]
    },
    {
     "name": "stderr",
     "output_type": "stream",
     "text": [
      "Epoch 184/200: 3it [00:00, 10.98it/s]\n"
     ]
    },
    {
     "name": "stdout",
     "output_type": "stream",
     "text": [
      "Epoch 184/200: Total Loss = 0.0148 | Data Loss = 0.0148 | PDE Loss = 0.0000\n"
     ]
    },
    {
     "name": "stderr",
     "output_type": "stream",
     "text": [
      "Epoch 185/200: 3it [00:00, 10.98it/s]\n"
     ]
    },
    {
     "name": "stdout",
     "output_type": "stream",
     "text": [
      "Epoch 185/200: Total Loss = 0.0144 | Data Loss = 0.0144 | PDE Loss = 0.0000\n"
     ]
    },
    {
     "name": "stderr",
     "output_type": "stream",
     "text": [
      "Epoch 186/200: 3it [00:00, 10.67it/s]\n"
     ]
    },
    {
     "name": "stdout",
     "output_type": "stream",
     "text": [
      "Epoch 186/200: Total Loss = 0.0138 | Data Loss = 0.0138 | PDE Loss = 0.0000\n"
     ]
    },
    {
     "name": "stderr",
     "output_type": "stream",
     "text": [
      "Epoch 187/200: 3it [00:00, 10.75it/s]\n"
     ]
    },
    {
     "name": "stdout",
     "output_type": "stream",
     "text": [
      "Epoch 187/200: Total Loss = 0.0133 | Data Loss = 0.0133 | PDE Loss = 0.0000\n"
     ]
    },
    {
     "name": "stderr",
     "output_type": "stream",
     "text": [
      "Epoch 188/200: 3it [00:00, 10.54it/s]\n"
     ]
    },
    {
     "name": "stdout",
     "output_type": "stream",
     "text": [
      "Epoch 188/200: Total Loss = 0.0131 | Data Loss = 0.0131 | PDE Loss = 0.0000\n"
     ]
    },
    {
     "name": "stderr",
     "output_type": "stream",
     "text": [
      "Epoch 189/200: 3it [00:00, 10.73it/s]\n"
     ]
    },
    {
     "name": "stdout",
     "output_type": "stream",
     "text": [
      "Epoch 189/200: Total Loss = 0.0129 | Data Loss = 0.0129 | PDE Loss = 0.0000\n"
     ]
    },
    {
     "name": "stderr",
     "output_type": "stream",
     "text": [
      "Epoch 190/200: 3it [00:00, 10.83it/s]\n"
     ]
    },
    {
     "name": "stdout",
     "output_type": "stream",
     "text": [
      "Epoch 190/200: Total Loss = 0.0128 | Data Loss = 0.0128 | PDE Loss = 0.0000\n"
     ]
    },
    {
     "name": "stderr",
     "output_type": "stream",
     "text": [
      "Epoch 191/200: 3it [00:00, 10.67it/s]\n"
     ]
    },
    {
     "name": "stdout",
     "output_type": "stream",
     "text": [
      "Epoch 191/200: Total Loss = 0.0126 | Data Loss = 0.0126 | PDE Loss = 0.0000\n"
     ]
    },
    {
     "name": "stderr",
     "output_type": "stream",
     "text": [
      "Epoch 192/200: 3it [00:00, 10.74it/s]\n"
     ]
    },
    {
     "name": "stdout",
     "output_type": "stream",
     "text": [
      "Epoch 192/200: Total Loss = 0.0124 | Data Loss = 0.0124 | PDE Loss = 0.0000\n"
     ]
    },
    {
     "name": "stderr",
     "output_type": "stream",
     "text": [
      "Epoch 193/200: 3it [00:00, 10.81it/s]\n"
     ]
    },
    {
     "name": "stdout",
     "output_type": "stream",
     "text": [
      "Epoch 193/200: Total Loss = 0.0122 | Data Loss = 0.0122 | PDE Loss = 0.0000\n"
     ]
    },
    {
     "name": "stderr",
     "output_type": "stream",
     "text": [
      "Epoch 194/200: 3it [00:00, 10.53it/s]\n"
     ]
    },
    {
     "name": "stdout",
     "output_type": "stream",
     "text": [
      "Epoch 194/200: Total Loss = 0.0121 | Data Loss = 0.0121 | PDE Loss = 0.0000\n"
     ]
    },
    {
     "name": "stderr",
     "output_type": "stream",
     "text": [
      "Epoch 195/200: 3it [00:00, 10.68it/s]\n"
     ]
    },
    {
     "name": "stdout",
     "output_type": "stream",
     "text": [
      "Epoch 195/200: Total Loss = 15.5953 | Data Loss = 0.0120 | PDE Loss = 15.5833\n"
     ]
    },
    {
     "name": "stderr",
     "output_type": "stream",
     "text": [
      "Epoch 196/200: 3it [00:00, 10.80it/s]\n"
     ]
    },
    {
     "name": "stdout",
     "output_type": "stream",
     "text": [
      "Epoch 196/200: Total Loss = 19.5871 | Data Loss = 19.5871 | PDE Loss = 0.0000\n"
     ]
    },
    {
     "name": "stderr",
     "output_type": "stream",
     "text": [
      "Epoch 197/200: 3it [00:00, 10.83it/s]\n"
     ]
    },
    {
     "name": "stdout",
     "output_type": "stream",
     "text": [
      "Epoch 197/200: Total Loss = 20.3064 | Data Loss = 20.3064 | PDE Loss = 0.0000\n"
     ]
    },
    {
     "name": "stderr",
     "output_type": "stream",
     "text": [
      "Epoch 198/200: 3it [00:00, 10.72it/s]\n"
     ]
    },
    {
     "name": "stdout",
     "output_type": "stream",
     "text": [
      "Epoch 198/200: Total Loss = 17.6014 | Data Loss = 17.6014 | PDE Loss = 0.0000\n"
     ]
    },
    {
     "name": "stderr",
     "output_type": "stream",
     "text": [
      "Epoch 199/200: 3it [00:00, 10.80it/s]\n"
     ]
    },
    {
     "name": "stdout",
     "output_type": "stream",
     "text": [
      "Epoch 199/200: Total Loss = 15.8729 | Data Loss = 15.8729 | PDE Loss = 0.0000\n"
     ]
    },
    {
     "name": "stderr",
     "output_type": "stream",
     "text": [
      "Epoch 200/200: 3it [00:00, 10.69it/s]"
     ]
    },
    {
     "name": "stdout",
     "output_type": "stream",
     "text": [
      "Epoch 200/200: Total Loss = 14.4429 | Data Loss = 14.4429 | PDE Loss = 0.0000\n"
     ]
    },
    {
     "name": "stderr",
     "output_type": "stream",
     "text": [
      "\n"
     ]
    }
   ],
   "source": [
    "# model hyperparameters\n",
    "input_dim = 3\n",
    "output_dim = 1\n",
    "hidden_dim = 256\n",
    "num_layers = 8\n",
    "dropout_prob = 0.5\n",
    "\n",
    "hidden_dims = [20] * 8\n",
    "\n",
    "###############\n",
    "#### MODEL ####\n",
    "###############\n",
    "\n",
    "#model = MLP(input_dim, output_dim, hidden_dim, num_layers)\n",
    "#model = ImprovedMLP(input_dim, output_dim, hidden_dim, num_layers, dropout_prob)\n",
    "model = new_MLP(hidden_dim=hidden_dim)\n",
    "#model = BurgersMLP(hidden_dims=hidden_dims)\n",
    "model = model.to(device)\n",
    "optimizer = torch.optim.Adam(model.parameters(), lr=0.01)\n",
    "criterion = nn.MSELoss()\n",
    "\n",
    "# training hyperparameters\n",
    "num_epochs = 200\n",
    "pde_weight = 1.0\n",
    "batch_size = 16384\n",
    "\n",
    "# train model\n",
    "train_model(model, criterion, optimizer, num_epochs, device, batch_size=batch_size, pde_weight=pde_weight)"
   ]
  },
  {
   "cell_type": "code",
   "execution_count": 22,
   "metadata": {},
   "outputs": [
    {
     "name": "stdout",
     "output_type": "stream",
     "text": [
      "(100, 100, 100)\n"
     ]
    },
    {
     "data": {
      "image/png": "[encoded data removed]",
      "text/plain": [
       "<Figure size 1000x600 with 2 Axes>"
      ]
     },
     "metadata": {},
     "output_type": "display_data"
    },
    {
     "data": {
      "text/plain": [
       "\"\\n# Plot temperature field at different time steps using contourf\\nfig, axes = plt.subplots(1, 3, figsize=(18, 6))\\n\\nfor i, ax in enumerate(axes):\\n    time_step = int(i * num_points_per_dim / 3)\\n    x_vals = np.linspace(0, L1, num_points_per_dim)\\n    y_vals = np.linspace(0, L2, num_points_per_dim)\\n    X, Y = np.meshgrid(x_vals, y_vals)\\n    cf = ax.contourf(X, Y, T_pred_grid[:, :, time_step].T, cmap='seismic', norm=norm, levels=100)\\n    ax.set_title(f'Temperature Field at t={t_grid[time_step].item():.2f} s')\\n    ax.set_xlabel('x')\\n    ax.set_ylabel('y')\\n\\nfig.colorbar(cf, ax=axes, orientation='vertical')\\nplt.show()\\n\""
      ]
     },
     "execution_count": 22,
     "metadata": {},
     "output_type": "execute_result"
    }
   ],
   "source": [
    "# Evaluate and visualize the results\n",
    "def evaluate_model(model, x, y, t, device):\n",
    "    model.eval()\n",
    "    with torch.no_grad():\n",
    "        x, y, t = x.to(device), y.to(device), t.to(device)\n",
    "        T_pred = model(torch.cat([x, y, t], dim=1)).cpu().numpy()\n",
    "    return T_pred\n",
    "\n",
    "# Generate a grid for temperature field visualization\n",
    "def generate_grid(L1, L2, time_simulation, num_points_per_dim):\n",
    "    x = np.linspace(0, L1, num_points_per_dim)\n",
    "    y = np.linspace(0, L2, num_points_per_dim)\n",
    "    t = np.linspace(0, time_simulation, num_points_per_dim)\n",
    "    x_grid, y_grid, t_grid = np.meshgrid(x, y, t)\n",
    "    x_grid = x_grid.flatten()\n",
    "    y_grid = y_grid.flatten()\n",
    "    t_grid = t_grid.flatten()\n",
    "    x_grid = torch.tensor(x_grid, dtype=torch.float32).reshape(-1, 1)\n",
    "    y_grid = torch.tensor(y_grid, dtype=torch.float32).reshape(-1, 1)\n",
    "    t_grid = torch.tensor(t_grid, dtype=torch.float32).reshape(-1, 1)\n",
    "    return x_grid, y_grid, t_grid\n",
    "\n",
    "# generate grid points\n",
    "num_points_per_dim = 100\n",
    "x_grid, y_grid, t_grid = generate_grid(L1, L2, time_simulation, num_points_per_dim)\n",
    "\n",
    "# predict temperature fields on the grid\n",
    "T_pred_grid = evaluate_model(model, x_grid, y_grid, t_grid, device)\n",
    "\n",
    "# reshape predictions for visualization\n",
    "T_pred_grid = T_pred_grid.reshape(num_points_per_dim, num_points_per_dim, num_points_per_dim)\n",
    "\n",
    "print(T_pred_grid.shape)\n",
    "\n",
    "plt.figure(figsize=(10, 6))\n",
    "time_step = 50\n",
    "x_vals = np.linspace(0, L1, num_points_per_dim)\n",
    "y_vals = np.linspace(0, L2, num_points_per_dim)\n",
    "X, Y = np.meshgrid(x_vals, y_vals)\n",
    "plt.contourf(X, Y, T_pred_grid[:, :, time_step].T, cmap='seismic', norm=norm, levels=num_points_per_dim)\n",
    "plt.title(f'Temperature Field at t={t_grid[time_step].item():.2f} s')\n",
    "plt.colorbar()\n",
    "plt.show()\n",
    "\n",
    "\"\"\"\n",
    "# Plot temperature field at different time steps using contourf\n",
    "fig, axes = plt.subplots(1, 3, figsize=(18, 6))\n",
    "\n",
    "for i, ax in enumerate(axes):\n",
    "    time_step = int(i * num_points_per_dim / 3)\n",
    "    x_vals = np.linspace(0, L1, num_points_per_dim)\n",
    "    y_vals = np.linspace(0, L2, num_points_per_dim)\n",
    "    X, Y = np.meshgrid(x_vals, y_vals)\n",
    "    cf = ax.contourf(X, Y, T_pred_grid[:, :, time_step].T, cmap='seismic', norm=norm, levels=100)\n",
    "    ax.set_title(f'Temperature Field at t={t_grid[time_step].item():.2f} s')\n",
    "    ax.set_xlabel('x')\n",
    "    ax.set_ylabel('y')\n",
    "\n",
    "fig.colorbar(cf, ax=axes, orientation='vertical')\n",
    "plt.show()\n",
    "\"\"\""
   ]
  }
 ],
 "metadata": {
  "kernelspec": {
   "display_name": "Python 3",
   "language": "python",
   "name": "python3"
  },
  "language_info": {
   "codemirror_mode": {
    "name": "ipython",
    "version": 3
   },
   "file_extension": ".py",
   "mimetype": "text/x-python",
   "name": "python",
   "nbconvert_exporter": "python",
   "pygments_lexer": "ipython3",
   "version": "3.10.14"
  }
 },
 "nbformat": 4,
 "nbformat_minor": 2
}
